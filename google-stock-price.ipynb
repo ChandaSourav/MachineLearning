{
 "cells": [
  {
   "cell_type": "code",
   "execution_count": 1,
   "id": "cde5a45c",
   "metadata": {
    "_cell_guid": "b1076dfc-b9ad-4769-8c92-a6c4dae69d19",
    "_uuid": "8f2839f25d086af736a60e9eeb907d3b93b6e0e5",
    "execution": {
     "iopub.execute_input": "2023-04-21T06:41:50.166664Z",
     "iopub.status.busy": "2023-04-21T06:41:50.165954Z",
     "iopub.status.idle": "2023-04-21T06:41:54.601326Z",
     "shell.execute_reply": "2023-04-21T06:41:54.599695Z"
    },
    "papermill": {
     "duration": 4.450836,
     "end_time": "2023-04-21T06:41:54.604916",
     "exception": false,
     "start_time": "2023-04-21T06:41:50.154080",
     "status": "completed"
    },
    "tags": []
   },
   "outputs": [
    {
     "name": "stdout",
     "output_type": "stream",
     "text": [
      "/kaggle/input/google-stock-price-daily-weekly-and-monthly-2023/google-stock-dataset-Weekly.csv\n",
      "/kaggle/input/google-stock-price-daily-weekly-and-monthly-2023/google-stock-dataset-Daily.csv\n",
      "/kaggle/input/google-stock-price-daily-weekly-and-monthly-2023/google-stock-dataset-Monthly.csv\n"
     ]
    }
   ],
   "source": [
    "import numpy as np \n",
    "import pandas as pd \n",
    "import matplotlib.pyplot as plt\n",
    "from sklearn.model_selection import train_test_split\n",
    "from sklearn.linear_model import LinearRegression\n",
    "from sklearn.metrics import confusion_matrix, ConfusionMatrixDisplay\n",
    "from sklearn.metrics import mean_squared_error, mean_absolute_error, mean_absolute_percentage_error,r2_score\n",
    "import seaborn as sns\n",
    "import plotly.express as px\n",
    "import os\n",
    "for dirname, _, filenames in os.walk('/kaggle/input'):\n",
    "    for filename in filenames:\n",
    "        print(os.path.join(dirname, filename))\n",
    "import warnings\n",
    "warnings.filterwarnings('ignore')"
   ]
  },
  {
   "cell_type": "code",
   "execution_count": 2,
   "id": "9054d44d",
   "metadata": {
    "execution": {
     "iopub.execute_input": "2023-04-21T06:41:54.622473Z",
     "iopub.status.busy": "2023-04-21T06:41:54.621047Z",
     "iopub.status.idle": "2023-04-21T06:41:54.667047Z",
     "shell.execute_reply": "2023-04-21T06:41:54.665384Z"
    },
    "papermill": {
     "duration": 0.058432,
     "end_time": "2023-04-21T06:41:54.670569",
     "exception": false,
     "start_time": "2023-04-21T06:41:54.612137",
     "status": "completed"
    },
    "tags": []
   },
   "outputs": [],
   "source": [
    "daily_df = pd.read_csv(\"/kaggle/input/google-stock-price-daily-weekly-and-monthly-2023/google-stock-dataset-Daily.csv\")\n",
    "weekly_df = pd.read_csv(\"/kaggle/input/google-stock-price-daily-weekly-and-monthly-2023/google-stock-dataset-Weekly.csv\")\n",
    "monthly_df = pd.read_csv(\"/kaggle/input/google-stock-price-daily-weekly-and-monthly-2023/google-stock-dataset-Monthly.csv\")"
   ]
  },
  {
   "cell_type": "code",
   "execution_count": 3,
   "id": "aaa5f410",
   "metadata": {
    "execution": {
     "iopub.execute_input": "2023-04-21T06:41:54.686888Z",
     "iopub.status.busy": "2023-04-21T06:41:54.686333Z",
     "iopub.status.idle": "2023-04-21T06:41:54.725564Z",
     "shell.execute_reply": "2023-04-21T06:41:54.723923Z"
    },
    "papermill": {
     "duration": 0.051454,
     "end_time": "2023-04-21T06:41:54.729005",
     "exception": false,
     "start_time": "2023-04-21T06:41:54.677551",
     "status": "completed"
    },
    "tags": []
   },
   "outputs": [
    {
     "data": {
      "text/html": [
       "<div>\n",
       "<style scoped>\n",
       "    .dataframe tbody tr th:only-of-type {\n",
       "        vertical-align: middle;\n",
       "    }\n",
       "\n",
       "    .dataframe tbody tr th {\n",
       "        vertical-align: top;\n",
       "    }\n",
       "\n",
       "    .dataframe thead th {\n",
       "        text-align: right;\n",
       "    }\n",
       "</style>\n",
       "<table border=\"1\" class=\"dataframe\">\n",
       "  <thead>\n",
       "    <tr style=\"text-align: right;\">\n",
       "      <th></th>\n",
       "      <th>Unnamed: 0</th>\n",
       "      <th>Date</th>\n",
       "      <th>Price</th>\n",
       "      <th>High</th>\n",
       "      <th>Low</th>\n",
       "      <th>Close</th>\n",
       "      <th>Volume</th>\n",
       "      <th>Adj Close</th>\n",
       "    </tr>\n",
       "  </thead>\n",
       "  <tbody>\n",
       "    <tr>\n",
       "      <th>0</th>\n",
       "      <td>0</td>\n",
       "      <td>2013-04-15</td>\n",
       "      <td>19.67</td>\n",
       "      <td>19.94</td>\n",
       "      <td>19.44</td>\n",
       "      <td>19.57</td>\n",
       "      <td>98025876</td>\n",
       "      <td>19.57</td>\n",
       "    </tr>\n",
       "    <tr>\n",
       "      <th>1</th>\n",
       "      <td>1</td>\n",
       "      <td>2013-04-16</td>\n",
       "      <td>19.68</td>\n",
       "      <td>19.92</td>\n",
       "      <td>19.62</td>\n",
       "      <td>19.85</td>\n",
       "      <td>69610320</td>\n",
       "      <td>19.85</td>\n",
       "    </tr>\n",
       "    <tr>\n",
       "      <th>2</th>\n",
       "      <td>2</td>\n",
       "      <td>2013-04-17</td>\n",
       "      <td>19.69</td>\n",
       "      <td>19.79</td>\n",
       "      <td>19.47</td>\n",
       "      <td>19.58</td>\n",
       "      <td>81398520</td>\n",
       "      <td>19.58</td>\n",
       "    </tr>\n",
       "    <tr>\n",
       "      <th>3</th>\n",
       "      <td>3</td>\n",
       "      <td>2013-04-18</td>\n",
       "      <td>19.65</td>\n",
       "      <td>19.66</td>\n",
       "      <td>19.05</td>\n",
       "      <td>19.17</td>\n",
       "      <td>132767100</td>\n",
       "      <td>19.17</td>\n",
       "    </tr>\n",
       "    <tr>\n",
       "      <th>4</th>\n",
       "      <td>4</td>\n",
       "      <td>2013-04-19</td>\n",
       "      <td>19.25</td>\n",
       "      <td>20.11</td>\n",
       "      <td>19.18</td>\n",
       "      <td>20.02</td>\n",
       "      <td>231895872</td>\n",
       "      <td>20.02</td>\n",
       "    </tr>\n",
       "    <tr>\n",
       "      <th>5</th>\n",
       "      <td>5</td>\n",
       "      <td>2013-04-22</td>\n",
       "      <td>20.04</td>\n",
       "      <td>20.12</td>\n",
       "      <td>19.39</td>\n",
       "      <td>20.02</td>\n",
       "      <td>115220664</td>\n",
       "      <td>20.02</td>\n",
       "    </tr>\n",
       "    <tr>\n",
       "      <th>6</th>\n",
       "      <td>6</td>\n",
       "      <td>2013-04-23</td>\n",
       "      <td>20.05</td>\n",
       "      <td>20.41</td>\n",
       "      <td>20.03</td>\n",
       "      <td>20.22</td>\n",
       "      <td>91600308</td>\n",
       "      <td>20.22</td>\n",
       "    </tr>\n",
       "    <tr>\n",
       "      <th>7</th>\n",
       "      <td>7</td>\n",
       "      <td>2013-04-24</td>\n",
       "      <td>20.22</td>\n",
       "      <td>20.47</td>\n",
       "      <td>20.22</td>\n",
       "      <td>20.36</td>\n",
       "      <td>73090836</td>\n",
       "      <td>20.36</td>\n",
       "    </tr>\n",
       "    <tr>\n",
       "      <th>8</th>\n",
       "      <td>8</td>\n",
       "      <td>2013-04-25</td>\n",
       "      <td>20.43</td>\n",
       "      <td>20.43</td>\n",
       "      <td>20.21</td>\n",
       "      <td>20.25</td>\n",
       "      <td>79608312</td>\n",
       "      <td>20.25</td>\n",
       "    </tr>\n",
       "    <tr>\n",
       "      <th>9</th>\n",
       "      <td>9</td>\n",
       "      <td>2013-04-26</td>\n",
       "      <td>20.21</td>\n",
       "      <td>20.21</td>\n",
       "      <td>19.93</td>\n",
       "      <td>20.06</td>\n",
       "      <td>99408492</td>\n",
       "      <td>20.06</td>\n",
       "    </tr>\n",
       "  </tbody>\n",
       "</table>\n",
       "</div>"
      ],
      "text/plain": [
       "   Unnamed: 0        Date  Price   High    Low  Close     Volume  Adj Close\n",
       "0           0  2013-04-15  19.67  19.94  19.44  19.57   98025876      19.57\n",
       "1           1  2013-04-16  19.68  19.92  19.62  19.85   69610320      19.85\n",
       "2           2  2013-04-17  19.69  19.79  19.47  19.58   81398520      19.58\n",
       "3           3  2013-04-18  19.65  19.66  19.05  19.17  132767100      19.17\n",
       "4           4  2013-04-19  19.25  20.11  19.18  20.02  231895872      20.02\n",
       "5           5  2013-04-22  20.04  20.12  19.39  20.02  115220664      20.02\n",
       "6           6  2013-04-23  20.05  20.41  20.03  20.22   91600308      20.22\n",
       "7           7  2013-04-24  20.22  20.47  20.22  20.36   73090836      20.36\n",
       "8           8  2013-04-25  20.43  20.43  20.21  20.25   79608312      20.25\n",
       "9           9  2013-04-26  20.21  20.21  19.93  20.06   99408492      20.06"
      ]
     },
     "execution_count": 3,
     "metadata": {},
     "output_type": "execute_result"
    }
   ],
   "source": [
    "daily_df.head(10)"
   ]
  },
  {
   "cell_type": "code",
   "execution_count": 4,
   "id": "dc1a872e",
   "metadata": {
    "execution": {
     "iopub.execute_input": "2023-04-21T06:41:54.745621Z",
     "iopub.status.busy": "2023-04-21T06:41:54.745079Z",
     "iopub.status.idle": "2023-04-21T06:41:54.766720Z",
     "shell.execute_reply": "2023-04-21T06:41:54.765221Z"
    },
    "papermill": {
     "duration": 0.033374,
     "end_time": "2023-04-21T06:41:54.769496",
     "exception": false,
     "start_time": "2023-04-21T06:41:54.736122",
     "status": "completed"
    },
    "tags": []
   },
   "outputs": [
    {
     "data": {
      "text/html": [
       "<div>\n",
       "<style scoped>\n",
       "    .dataframe tbody tr th:only-of-type {\n",
       "        vertical-align: middle;\n",
       "    }\n",
       "\n",
       "    .dataframe tbody tr th {\n",
       "        vertical-align: top;\n",
       "    }\n",
       "\n",
       "    .dataframe thead th {\n",
       "        text-align: right;\n",
       "    }\n",
       "</style>\n",
       "<table border=\"1\" class=\"dataframe\">\n",
       "  <thead>\n",
       "    <tr style=\"text-align: right;\">\n",
       "      <th></th>\n",
       "      <th>Unnamed: 0</th>\n",
       "      <th>Date</th>\n",
       "      <th>Price</th>\n",
       "      <th>High</th>\n",
       "      <th>Low</th>\n",
       "      <th>Close</th>\n",
       "      <th>Volume</th>\n",
       "      <th>Adj Close</th>\n",
       "    </tr>\n",
       "  </thead>\n",
       "  <tbody>\n",
       "    <tr>\n",
       "      <th>0</th>\n",
       "      <td>0</td>\n",
       "      <td>2013-04-15</td>\n",
       "      <td>19.67</td>\n",
       "      <td>20.11</td>\n",
       "      <td>19.05</td>\n",
       "      <td>20.02</td>\n",
       "      <td>613697688</td>\n",
       "      <td>20.02</td>\n",
       "    </tr>\n",
       "    <tr>\n",
       "      <th>1</th>\n",
       "      <td>1</td>\n",
       "      <td>2013-04-22</td>\n",
       "      <td>20.04</td>\n",
       "      <td>20.47</td>\n",
       "      <td>19.39</td>\n",
       "      <td>20.06</td>\n",
       "      <td>458928612</td>\n",
       "      <td>20.06</td>\n",
       "    </tr>\n",
       "    <tr>\n",
       "      <th>2</th>\n",
       "      <td>2</td>\n",
       "      <td>2013-04-29</td>\n",
       "      <td>20.10</td>\n",
       "      <td>21.19</td>\n",
       "      <td>20.10</td>\n",
       "      <td>21.16</td>\n",
       "      <td>423312264</td>\n",
       "      <td>21.16</td>\n",
       "    </tr>\n",
       "    <tr>\n",
       "      <th>3</th>\n",
       "      <td>3</td>\n",
       "      <td>2013-05-06</td>\n",
       "      <td>21.23</td>\n",
       "      <td>22.04</td>\n",
       "      <td>21.23</td>\n",
       "      <td>22.03</td>\n",
       "      <td>426249324</td>\n",
       "      <td>22.03</td>\n",
       "    </tr>\n",
       "    <tr>\n",
       "      <th>4</th>\n",
       "      <td>4</td>\n",
       "      <td>2013-05-13</td>\n",
       "      <td>21.99</td>\n",
       "      <td>23.02</td>\n",
       "      <td>21.86</td>\n",
       "      <td>22.75</td>\n",
       "      <td>520091388</td>\n",
       "      <td>22.75</td>\n",
       "    </tr>\n",
       "    <tr>\n",
       "      <th>5</th>\n",
       "      <td>5</td>\n",
       "      <td>2013-05-20</td>\n",
       "      <td>22.65</td>\n",
       "      <td>23.04</td>\n",
       "      <td>21.80</td>\n",
       "      <td>21.85</td>\n",
       "      <td>455072472</td>\n",
       "      <td>21.85</td>\n",
       "    </tr>\n",
       "    <tr>\n",
       "      <th>6</th>\n",
       "      <td>6</td>\n",
       "      <td>2013-05-27</td>\n",
       "      <td>22.11</td>\n",
       "      <td>22.33</td>\n",
       "      <td>21.63</td>\n",
       "      <td>21.80</td>\n",
       "      <td>334105560</td>\n",
       "      <td>21.80</td>\n",
       "    </tr>\n",
       "    <tr>\n",
       "      <th>7</th>\n",
       "      <td>7</td>\n",
       "      <td>2013-06-03</td>\n",
       "      <td>21.85</td>\n",
       "      <td>22.02</td>\n",
       "      <td>21.20</td>\n",
       "      <td>22.02</td>\n",
       "      <td>467723808</td>\n",
       "      <td>22.02</td>\n",
       "    </tr>\n",
       "    <tr>\n",
       "      <th>8</th>\n",
       "      <td>8</td>\n",
       "      <td>2013-06-10</td>\n",
       "      <td>22.07</td>\n",
       "      <td>22.30</td>\n",
       "      <td>21.66</td>\n",
       "      <td>21.90</td>\n",
       "      <td>424179396</td>\n",
       "      <td>21.90</td>\n",
       "    </tr>\n",
       "    <tr>\n",
       "      <th>9</th>\n",
       "      <td>9</td>\n",
       "      <td>2013-06-17</td>\n",
       "      <td>22.00</td>\n",
       "      <td>22.79</td>\n",
       "      <td>21.85</td>\n",
       "      <td>22.05</td>\n",
       "      <td>582752664</td>\n",
       "      <td>22.05</td>\n",
       "    </tr>\n",
       "  </tbody>\n",
       "</table>\n",
       "</div>"
      ],
      "text/plain": [
       "   Unnamed: 0        Date  Price   High    Low  Close     Volume  Adj Close\n",
       "0           0  2013-04-15  19.67  20.11  19.05  20.02  613697688      20.02\n",
       "1           1  2013-04-22  20.04  20.47  19.39  20.06  458928612      20.06\n",
       "2           2  2013-04-29  20.10  21.19  20.10  21.16  423312264      21.16\n",
       "3           3  2013-05-06  21.23  22.04  21.23  22.03  426249324      22.03\n",
       "4           4  2013-05-13  21.99  23.02  21.86  22.75  520091388      22.75\n",
       "5           5  2013-05-20  22.65  23.04  21.80  21.85  455072472      21.85\n",
       "6           6  2013-05-27  22.11  22.33  21.63  21.80  334105560      21.80\n",
       "7           7  2013-06-03  21.85  22.02  21.20  22.02  467723808      22.02\n",
       "8           8  2013-06-10  22.07  22.30  21.66  21.90  424179396      21.90\n",
       "9           9  2013-06-17  22.00  22.79  21.85  22.05  582752664      22.05"
      ]
     },
     "execution_count": 4,
     "metadata": {},
     "output_type": "execute_result"
    }
   ],
   "source": [
    "weekly_df.head(10)"
   ]
  },
  {
   "cell_type": "code",
   "execution_count": 5,
   "id": "a5f2706a",
   "metadata": {
    "execution": {
     "iopub.execute_input": "2023-04-21T06:41:54.787107Z",
     "iopub.status.busy": "2023-04-21T06:41:54.786583Z",
     "iopub.status.idle": "2023-04-21T06:41:54.806771Z",
     "shell.execute_reply": "2023-04-21T06:41:54.805747Z"
    },
    "papermill": {
     "duration": 0.032006,
     "end_time": "2023-04-21T06:41:54.809263",
     "exception": false,
     "start_time": "2023-04-21T06:41:54.777257",
     "status": "completed"
    },
    "tags": []
   },
   "outputs": [
    {
     "data": {
      "text/html": [
       "<div>\n",
       "<style scoped>\n",
       "    .dataframe tbody tr th:only-of-type {\n",
       "        vertical-align: middle;\n",
       "    }\n",
       "\n",
       "    .dataframe tbody tr th {\n",
       "        vertical-align: top;\n",
       "    }\n",
       "\n",
       "    .dataframe thead th {\n",
       "        text-align: right;\n",
       "    }\n",
       "</style>\n",
       "<table border=\"1\" class=\"dataframe\">\n",
       "  <thead>\n",
       "    <tr style=\"text-align: right;\">\n",
       "      <th></th>\n",
       "      <th>Unnamed: 0</th>\n",
       "      <th>Date</th>\n",
       "      <th>Price</th>\n",
       "      <th>High</th>\n",
       "      <th>Low</th>\n",
       "      <th>Close</th>\n",
       "      <th>Volume</th>\n",
       "      <th>Adj Close</th>\n",
       "    </tr>\n",
       "  </thead>\n",
       "  <tbody>\n",
       "    <tr>\n",
       "      <th>0</th>\n",
       "      <td>0</td>\n",
       "      <td>2013-05-01</td>\n",
       "      <td>20.60</td>\n",
       "      <td>23.04</td>\n",
       "      <td>20.43</td>\n",
       "      <td>21.80</td>\n",
       "      <td>1974715308</td>\n",
       "      <td>21.80</td>\n",
       "    </tr>\n",
       "    <tr>\n",
       "      <th>1</th>\n",
       "      <td>1</td>\n",
       "      <td>2013-06-01</td>\n",
       "      <td>21.85</td>\n",
       "      <td>22.79</td>\n",
       "      <td>21.20</td>\n",
       "      <td>22.03</td>\n",
       "      <td>1941280776</td>\n",
       "      <td>22.03</td>\n",
       "    </tr>\n",
       "    <tr>\n",
       "      <th>2</th>\n",
       "      <td>2</td>\n",
       "      <td>2013-07-01</td>\n",
       "      <td>22.18</td>\n",
       "      <td>23.22</td>\n",
       "      <td>21.91</td>\n",
       "      <td>22.22</td>\n",
       "      <td>2047770180</td>\n",
       "      <td>22.22</td>\n",
       "    </tr>\n",
       "    <tr>\n",
       "      <th>3</th>\n",
       "      <td>3</td>\n",
       "      <td>2013-08-01</td>\n",
       "      <td>22.40</td>\n",
       "      <td>22.77</td>\n",
       "      <td>21.16</td>\n",
       "      <td>21.19</td>\n",
       "      <td>1338144516</td>\n",
       "      <td>21.19</td>\n",
       "    </tr>\n",
       "    <tr>\n",
       "      <th>4</th>\n",
       "      <td>4</td>\n",
       "      <td>2013-09-01</td>\n",
       "      <td>21.38</td>\n",
       "      <td>22.67</td>\n",
       "      <td>21.37</td>\n",
       "      <td>21.92</td>\n",
       "      <td>1323615060</td>\n",
       "      <td>21.92</td>\n",
       "    </tr>\n",
       "    <tr>\n",
       "      <th>5</th>\n",
       "      <td>5</td>\n",
       "      <td>2013-10-01</td>\n",
       "      <td>22.03</td>\n",
       "      <td>26.06</td>\n",
       "      <td>21.10</td>\n",
       "      <td>25.79</td>\n",
       "      <td>2206771020</td>\n",
       "      <td>25.79</td>\n",
       "    </tr>\n",
       "    <tr>\n",
       "      <th>6</th>\n",
       "      <td>6</td>\n",
       "      <td>2013-11-01</td>\n",
       "      <td>25.82</td>\n",
       "      <td>26.73</td>\n",
       "      <td>25.15</td>\n",
       "      <td>26.52</td>\n",
       "      <td>1049213736</td>\n",
       "      <td>26.52</td>\n",
       "    </tr>\n",
       "    <tr>\n",
       "      <th>7</th>\n",
       "      <td>7</td>\n",
       "      <td>2013-12-01</td>\n",
       "      <td>26.61</td>\n",
       "      <td>28.05</td>\n",
       "      <td>26.25</td>\n",
       "      <td>28.05</td>\n",
       "      <td>1352374272</td>\n",
       "      <td>28.05</td>\n",
       "    </tr>\n",
       "    <tr>\n",
       "      <th>8</th>\n",
       "      <td>8</td>\n",
       "      <td>2014-01-01</td>\n",
       "      <td>27.91</td>\n",
       "      <td>29.69</td>\n",
       "      <td>27.08</td>\n",
       "      <td>29.55</td>\n",
       "      <td>2178287532</td>\n",
       "      <td>29.55</td>\n",
       "    </tr>\n",
       "    <tr>\n",
       "      <th>9</th>\n",
       "      <td>9</td>\n",
       "      <td>2014-02-01</td>\n",
       "      <td>29.51</td>\n",
       "      <td>30.75</td>\n",
       "      <td>28.23</td>\n",
       "      <td>30.42</td>\n",
       "      <td>1620230148</td>\n",
       "      <td>30.42</td>\n",
       "    </tr>\n",
       "  </tbody>\n",
       "</table>\n",
       "</div>"
      ],
      "text/plain": [
       "   Unnamed: 0        Date  Price   High    Low  Close      Volume  Adj Close\n",
       "0           0  2013-05-01  20.60  23.04  20.43  21.80  1974715308      21.80\n",
       "1           1  2013-06-01  21.85  22.79  21.20  22.03  1941280776      22.03\n",
       "2           2  2013-07-01  22.18  23.22  21.91  22.22  2047770180      22.22\n",
       "3           3  2013-08-01  22.40  22.77  21.16  21.19  1338144516      21.19\n",
       "4           4  2013-09-01  21.38  22.67  21.37  21.92  1323615060      21.92\n",
       "5           5  2013-10-01  22.03  26.06  21.10  25.79  2206771020      25.79\n",
       "6           6  2013-11-01  25.82  26.73  25.15  26.52  1049213736      26.52\n",
       "7           7  2013-12-01  26.61  28.05  26.25  28.05  1352374272      28.05\n",
       "8           8  2014-01-01  27.91  29.69  27.08  29.55  2178287532      29.55\n",
       "9           9  2014-02-01  29.51  30.75  28.23  30.42  1620230148      30.42"
      ]
     },
     "execution_count": 5,
     "metadata": {},
     "output_type": "execute_result"
    }
   ],
   "source": [
    "monthly_df.head(10)"
   ]
  },
  {
   "cell_type": "code",
   "execution_count": 6,
   "id": "3025a02e",
   "metadata": {
    "execution": {
     "iopub.execute_input": "2023-04-21T06:41:54.827587Z",
     "iopub.status.busy": "2023-04-21T06:41:54.827001Z",
     "iopub.status.idle": "2023-04-21T06:41:54.859702Z",
     "shell.execute_reply": "2023-04-21T06:41:54.858014Z"
    },
    "papermill": {
     "duration": 0.04613,
     "end_time": "2023-04-21T06:41:54.863138",
     "exception": false,
     "start_time": "2023-04-21T06:41:54.817008",
     "status": "completed"
    },
    "tags": []
   },
   "outputs": [
    {
     "name": "stdout",
     "output_type": "stream",
     "text": [
      "<class 'pandas.core.frame.DataFrame'>\n",
      "RangeIndex: 2510 entries, 0 to 2509\n",
      "Data columns (total 8 columns):\n",
      " #   Column      Non-Null Count  Dtype  \n",
      "---  ------      --------------  -----  \n",
      " 0   Unnamed: 0  2510 non-null   int64  \n",
      " 1   Date        2510 non-null   object \n",
      " 2   Price       2510 non-null   float64\n",
      " 3   High        2510 non-null   float64\n",
      " 4   Low         2510 non-null   float64\n",
      " 5   Close       2510 non-null   float64\n",
      " 6   Volume      2510 non-null   int64  \n",
      " 7   Adj Close   2510 non-null   float64\n",
      "dtypes: float64(5), int64(2), object(1)\n",
      "memory usage: 157.0+ KB\n"
     ]
    }
   ],
   "source": [
    "daily_df.info()"
   ]
  },
  {
   "cell_type": "code",
   "execution_count": 7,
   "id": "cdb260f0",
   "metadata": {
    "execution": {
     "iopub.execute_input": "2023-04-21T06:41:54.882157Z",
     "iopub.status.busy": "2023-04-21T06:41:54.881111Z",
     "iopub.status.idle": "2023-04-21T06:41:54.894487Z",
     "shell.execute_reply": "2023-04-21T06:41:54.892863Z"
    },
    "papermill": {
     "duration": 0.026149,
     "end_time": "2023-04-21T06:41:54.897358",
     "exception": false,
     "start_time": "2023-04-21T06:41:54.871209",
     "status": "completed"
    },
    "tags": []
   },
   "outputs": [],
   "source": [
    "daily_df.drop(['Unnamed: 0'],axis=1,inplace=True)\n",
    "weekly_df.drop(['Unnamed: 0'],axis=1,inplace=True)\n",
    "monthly_df.drop(['Unnamed: 0'],axis=1,inplace=True)"
   ]
  },
  {
   "cell_type": "code",
   "execution_count": 8,
   "id": "8457e5fb",
   "metadata": {
    "execution": {
     "iopub.execute_input": "2023-04-21T06:41:54.916486Z",
     "iopub.status.busy": "2023-04-21T06:41:54.915347Z",
     "iopub.status.idle": "2023-04-21T06:41:54.924621Z",
     "shell.execute_reply": "2023-04-21T06:41:54.923274Z"
    },
    "papermill": {
     "duration": 0.022699,
     "end_time": "2023-04-21T06:41:54.927924",
     "exception": false,
     "start_time": "2023-04-21T06:41:54.905225",
     "status": "completed"
    },
    "tags": []
   },
   "outputs": [],
   "source": [
    "daily_df.rename(columns={'Price':'Open'},inplace=True)\n",
    "weekly_df.rename(columns={'Price':'Open'},inplace=True)\n",
    "monthly_df.rename(columns={'Price':'Open'},inplace=True)"
   ]
  },
  {
   "cell_type": "code",
   "execution_count": 9,
   "id": "2356cb3b",
   "metadata": {
    "execution": {
     "iopub.execute_input": "2023-04-21T06:41:54.946369Z",
     "iopub.status.busy": "2023-04-21T06:41:54.945255Z",
     "iopub.status.idle": "2023-04-21T06:41:54.964857Z",
     "shell.execute_reply": "2023-04-21T06:41:54.963131Z"
    },
    "papermill": {
     "duration": 0.032686,
     "end_time": "2023-04-21T06:41:54.968218",
     "exception": false,
     "start_time": "2023-04-21T06:41:54.935532",
     "status": "completed"
    },
    "tags": []
   },
   "outputs": [
    {
     "data": {
      "text/html": [
       "<div>\n",
       "<style scoped>\n",
       "    .dataframe tbody tr th:only-of-type {\n",
       "        vertical-align: middle;\n",
       "    }\n",
       "\n",
       "    .dataframe tbody tr th {\n",
       "        vertical-align: top;\n",
       "    }\n",
       "\n",
       "    .dataframe thead th {\n",
       "        text-align: right;\n",
       "    }\n",
       "</style>\n",
       "<table border=\"1\" class=\"dataframe\">\n",
       "  <thead>\n",
       "    <tr style=\"text-align: right;\">\n",
       "      <th></th>\n",
       "      <th>Date</th>\n",
       "      <th>Open</th>\n",
       "      <th>High</th>\n",
       "      <th>Low</th>\n",
       "      <th>Close</th>\n",
       "      <th>Volume</th>\n",
       "      <th>Adj Close</th>\n",
       "    </tr>\n",
       "  </thead>\n",
       "  <tbody>\n",
       "    <tr>\n",
       "      <th>0</th>\n",
       "      <td>2013-04-15</td>\n",
       "      <td>19.67</td>\n",
       "      <td>19.94</td>\n",
       "      <td>19.44</td>\n",
       "      <td>19.57</td>\n",
       "      <td>98025876</td>\n",
       "      <td>19.57</td>\n",
       "    </tr>\n",
       "    <tr>\n",
       "      <th>1</th>\n",
       "      <td>2013-04-16</td>\n",
       "      <td>19.68</td>\n",
       "      <td>19.92</td>\n",
       "      <td>19.62</td>\n",
       "      <td>19.85</td>\n",
       "      <td>69610320</td>\n",
       "      <td>19.85</td>\n",
       "    </tr>\n",
       "    <tr>\n",
       "      <th>2</th>\n",
       "      <td>2013-04-17</td>\n",
       "      <td>19.69</td>\n",
       "      <td>19.79</td>\n",
       "      <td>19.47</td>\n",
       "      <td>19.58</td>\n",
       "      <td>81398520</td>\n",
       "      <td>19.58</td>\n",
       "    </tr>\n",
       "    <tr>\n",
       "      <th>3</th>\n",
       "      <td>2013-04-18</td>\n",
       "      <td>19.65</td>\n",
       "      <td>19.66</td>\n",
       "      <td>19.05</td>\n",
       "      <td>19.17</td>\n",
       "      <td>132767100</td>\n",
       "      <td>19.17</td>\n",
       "    </tr>\n",
       "    <tr>\n",
       "      <th>4</th>\n",
       "      <td>2013-04-19</td>\n",
       "      <td>19.25</td>\n",
       "      <td>20.11</td>\n",
       "      <td>19.18</td>\n",
       "      <td>20.02</td>\n",
       "      <td>231895872</td>\n",
       "      <td>20.02</td>\n",
       "    </tr>\n",
       "  </tbody>\n",
       "</table>\n",
       "</div>"
      ],
      "text/plain": [
       "         Date   Open   High    Low  Close     Volume  Adj Close\n",
       "0  2013-04-15  19.67  19.94  19.44  19.57   98025876      19.57\n",
       "1  2013-04-16  19.68  19.92  19.62  19.85   69610320      19.85\n",
       "2  2013-04-17  19.69  19.79  19.47  19.58   81398520      19.58\n",
       "3  2013-04-18  19.65  19.66  19.05  19.17  132767100      19.17\n",
       "4  2013-04-19  19.25  20.11  19.18  20.02  231895872      20.02"
      ]
     },
     "execution_count": 9,
     "metadata": {},
     "output_type": "execute_result"
    }
   ],
   "source": [
    "daily_df.head()"
   ]
  },
  {
   "cell_type": "code",
   "execution_count": 10,
   "id": "e08dcf34",
   "metadata": {
    "execution": {
     "iopub.execute_input": "2023-04-21T06:41:54.987822Z",
     "iopub.status.busy": "2023-04-21T06:41:54.986348Z",
     "iopub.status.idle": "2023-04-21T06:41:54.999807Z",
     "shell.execute_reply": "2023-04-21T06:41:54.998237Z"
    },
    "papermill": {
     "duration": 0.026181,
     "end_time": "2023-04-21T06:41:55.002855",
     "exception": false,
     "start_time": "2023-04-21T06:41:54.976674",
     "status": "completed"
    },
    "tags": []
   },
   "outputs": [
    {
     "data": {
      "text/plain": [
       "Date         0\n",
       "Open         0\n",
       "High         0\n",
       "Low          0\n",
       "Close        0\n",
       "Volume       0\n",
       "Adj Close    0\n",
       "dtype: int64"
      ]
     },
     "execution_count": 10,
     "metadata": {},
     "output_type": "execute_result"
    }
   ],
   "source": [
    "daily_df.isnull().sum()"
   ]
  },
  {
   "cell_type": "code",
   "execution_count": 11,
   "id": "ec6b0f4a",
   "metadata": {
    "execution": {
     "iopub.execute_input": "2023-04-21T06:41:55.021590Z",
     "iopub.status.busy": "2023-04-21T06:41:55.021005Z",
     "iopub.status.idle": "2023-04-21T06:41:55.030208Z",
     "shell.execute_reply": "2023-04-21T06:41:55.028660Z"
    },
    "papermill": {
     "duration": 0.022156,
     "end_time": "2023-04-21T06:41:55.033130",
     "exception": false,
     "start_time": "2023-04-21T06:41:55.010974",
     "status": "completed"
    },
    "tags": []
   },
   "outputs": [
    {
     "data": {
      "text/plain": [
       "(2510, 7)"
      ]
     },
     "execution_count": 11,
     "metadata": {},
     "output_type": "execute_result"
    }
   ],
   "source": [
    "daily_df.shape"
   ]
  },
  {
   "cell_type": "code",
   "execution_count": 12,
   "id": "1a06c46f",
   "metadata": {
    "execution": {
     "iopub.execute_input": "2023-04-21T06:41:55.055012Z",
     "iopub.status.busy": "2023-04-21T06:41:55.054038Z",
     "iopub.status.idle": "2023-04-21T06:41:55.062044Z",
     "shell.execute_reply": "2023-04-21T06:41:55.059913Z"
    },
    "papermill": {
     "duration": 0.022259,
     "end_time": "2023-04-21T06:41:55.065708",
     "exception": false,
     "start_time": "2023-04-21T06:41:55.043449",
     "status": "completed"
    },
    "tags": []
   },
   "outputs": [],
   "source": [
    "def volume_analysis(df,cmp):\n",
    "    plt.figure(figsize=(10,5))\n",
    "    plt.plot(df['Date'],df['Volume'],c='blue')\n",
    "    plt.title('Volume Of '+cmp+' Stock Traded')\n",
    "    plt.ylabel('Volume')\n",
    "    plt.show()"
   ]
  },
  {
   "cell_type": "code",
   "execution_count": 13,
   "id": "7b86d772",
   "metadata": {
    "execution": {
     "iopub.execute_input": "2023-04-21T06:41:55.084783Z",
     "iopub.status.busy": "2023-04-21T06:41:55.084187Z",
     "iopub.status.idle": "2023-04-21T06:42:30.107382Z",
     "shell.execute_reply": "2023-04-21T06:42:30.105755Z"
    },
    "papermill": {
     "duration": 35.03714,
     "end_time": "2023-04-21T06:42:30.111194",
     "exception": false,
     "start_time": "2023-04-21T06:41:55.074054",
     "status": "completed"
    },
    "tags": []
   },
   "outputs": [
    {
     "data": {
      "image/png": "[encoded data removed]",
      "text/plain": [
       "<Figure size 1000x500 with 1 Axes>"
      ]
     },
     "metadata": {},
     "output_type": "display_data"
    },
    {
     "data": {
      "image/png": "[encoded data removed]",
      "text/plain": [
       "<Figure size 1000x500 with 1 Axes>"
      ]
     },
     "metadata": {},
     "output_type": "display_data"
    },
    {
     "data": {
      "image/png": "[encoded data removed]",
      "text/plain": [
       "<Figure size 1000x500 with 1 Axes>"
      ]
     },
     "metadata": {},
     "output_type": "display_data"
    }
   ],
   "source": [
    "volume_analysis(daily_df,'Daily')\n",
    "volume_analysis(weekly_df,'Weekly')\n",
    "volume_analysis(monthly_df,'Monthly')"
   ]
  },
  {
   "cell_type": "code",
   "execution_count": 14,
   "id": "151e62a3",
   "metadata": {
    "execution": {
     "iopub.execute_input": "2023-04-21T06:42:30.136028Z",
     "iopub.status.busy": "2023-04-21T06:42:30.135441Z",
     "iopub.status.idle": "2023-04-21T06:42:30.150003Z",
     "shell.execute_reply": "2023-04-21T06:42:30.148365Z"
    },
    "papermill": {
     "duration": 0.030983,
     "end_time": "2023-04-21T06:42:30.153516",
     "exception": false,
     "start_time": "2023-04-21T06:42:30.122533",
     "status": "completed"
    },
    "tags": []
   },
   "outputs": [],
   "source": [
    "train, test = train_test_split(daily_df, test_size = 0.2)"
   ]
  },
  {
   "cell_type": "code",
   "execution_count": 15,
   "id": "e2d7f1f3",
   "metadata": {
    "execution": {
     "iopub.execute_input": "2023-04-21T06:42:30.177263Z",
     "iopub.status.busy": "2023-04-21T06:42:30.176696Z",
     "iopub.status.idle": "2023-04-21T06:42:30.183777Z",
     "shell.execute_reply": "2023-04-21T06:42:30.182073Z"
    },
    "papermill": {
     "duration": 0.022871,
     "end_time": "2023-04-21T06:42:30.187076",
     "exception": false,
     "start_time": "2023-04-21T06:42:30.164205",
     "status": "completed"
    },
    "tags": []
   },
   "outputs": [],
   "source": [
    "test_pred = test.copy()"
   ]
  },
  {
   "cell_type": "code",
   "execution_count": 16,
   "id": "1da027f1",
   "metadata": {
    "execution": {
     "iopub.execute_input": "2023-04-21T06:42:30.210717Z",
     "iopub.status.busy": "2023-04-21T06:42:30.210165Z",
     "iopub.status.idle": "2023-04-21T06:42:30.232579Z",
     "shell.execute_reply": "2023-04-21T06:42:30.230952Z"
    },
    "papermill": {
     "duration": 0.038148,
     "end_time": "2023-04-21T06:42:30.235816",
     "exception": false,
     "start_time": "2023-04-21T06:42:30.197668",
     "status": "completed"
    },
    "tags": []
   },
   "outputs": [
    {
     "data": {
      "text/html": [
       "<div>\n",
       "<style scoped>\n",
       "    .dataframe tbody tr th:only-of-type {\n",
       "        vertical-align: middle;\n",
       "    }\n",
       "\n",
       "    .dataframe tbody tr th {\n",
       "        vertical-align: top;\n",
       "    }\n",
       "\n",
       "    .dataframe thead th {\n",
       "        text-align: right;\n",
       "    }\n",
       "</style>\n",
       "<table border=\"1\" class=\"dataframe\">\n",
       "  <thead>\n",
       "    <tr style=\"text-align: right;\">\n",
       "      <th></th>\n",
       "      <th>Date</th>\n",
       "      <th>Open</th>\n",
       "      <th>High</th>\n",
       "      <th>Low</th>\n",
       "      <th>Close</th>\n",
       "      <th>Volume</th>\n",
       "      <th>Adj Close</th>\n",
       "    </tr>\n",
       "  </thead>\n",
       "  <tbody>\n",
       "    <tr>\n",
       "      <th>848</th>\n",
       "      <td>2016-08-24</td>\n",
       "      <td>39.84</td>\n",
       "      <td>39.92</td>\n",
       "      <td>39.54</td>\n",
       "      <td>39.68</td>\n",
       "      <td>25672000</td>\n",
       "      <td>39.68</td>\n",
       "    </tr>\n",
       "    <tr>\n",
       "      <th>2196</th>\n",
       "      <td>2021-12-31</td>\n",
       "      <td>146.05</td>\n",
       "      <td>146.70</td>\n",
       "      <td>144.85</td>\n",
       "      <td>144.85</td>\n",
       "      <td>18136000</td>\n",
       "      <td>144.85</td>\n",
       "    </tr>\n",
       "    <tr>\n",
       "      <th>1127</th>\n",
       "      <td>2017-10-03</td>\n",
       "      <td>48.38</td>\n",
       "      <td>48.62</td>\n",
       "      <td>48.14</td>\n",
       "      <td>48.60</td>\n",
       "      <td>21666000</td>\n",
       "      <td>48.60</td>\n",
       "    </tr>\n",
       "    <tr>\n",
       "      <th>1725</th>\n",
       "      <td>2020-02-20</td>\n",
       "      <td>75.95</td>\n",
       "      <td>76.35</td>\n",
       "      <td>75.21</td>\n",
       "      <td>75.85</td>\n",
       "      <td>25962000</td>\n",
       "      <td>75.85</td>\n",
       "    </tr>\n",
       "    <tr>\n",
       "      <th>2218</th>\n",
       "      <td>2022-02-02</td>\n",
       "      <td>151.25</td>\n",
       "      <td>151.55</td>\n",
       "      <td>145.52</td>\n",
       "      <td>148.00</td>\n",
       "      <td>123200000</td>\n",
       "      <td>148.00</td>\n",
       "    </tr>\n",
       "    <tr>\n",
       "      <th>891</th>\n",
       "      <td>2016-10-25</td>\n",
       "      <td>41.92</td>\n",
       "      <td>41.92</td>\n",
       "      <td>41.26</td>\n",
       "      <td>41.43</td>\n",
       "      <td>37814000</td>\n",
       "      <td>41.43</td>\n",
       "    </tr>\n",
       "    <tr>\n",
       "      <th>2472</th>\n",
       "      <td>2023-02-07</td>\n",
       "      <td>103.22</td>\n",
       "      <td>108.18</td>\n",
       "      <td>103.12</td>\n",
       "      <td>107.64</td>\n",
       "      <td>49010200</td>\n",
       "      <td>107.64</td>\n",
       "    </tr>\n",
       "    <tr>\n",
       "      <th>1792</th>\n",
       "      <td>2020-05-27</td>\n",
       "      <td>71.00</td>\n",
       "      <td>71.27</td>\n",
       "      <td>69.73</td>\n",
       "      <td>71.01</td>\n",
       "      <td>31684000</td>\n",
       "      <td>71.01</td>\n",
       "    </tr>\n",
       "    <tr>\n",
       "      <th>974</th>\n",
       "      <td>2017-02-24</td>\n",
       "      <td>42.38</td>\n",
       "      <td>42.42</td>\n",
       "      <td>42.15</td>\n",
       "      <td>42.39</td>\n",
       "      <td>26924000</td>\n",
       "      <td>42.39</td>\n",
       "    </tr>\n",
       "    <tr>\n",
       "      <th>811</th>\n",
       "      <td>2016-07-01</td>\n",
       "      <td>35.26</td>\n",
       "      <td>35.63</td>\n",
       "      <td>35.19</td>\n",
       "      <td>35.51</td>\n",
       "      <td>30984000</td>\n",
       "      <td>35.51</td>\n",
       "    </tr>\n",
       "  </tbody>\n",
       "</table>\n",
       "</div>"
      ],
      "text/plain": [
       "            Date    Open    High     Low   Close     Volume  Adj Close\n",
       "848   2016-08-24   39.84   39.92   39.54   39.68   25672000      39.68\n",
       "2196  2021-12-31  146.05  146.70  144.85  144.85   18136000     144.85\n",
       "1127  2017-10-03   48.38   48.62   48.14   48.60   21666000      48.60\n",
       "1725  2020-02-20   75.95   76.35   75.21   75.85   25962000      75.85\n",
       "2218  2022-02-02  151.25  151.55  145.52  148.00  123200000     148.00\n",
       "891   2016-10-25   41.92   41.92   41.26   41.43   37814000      41.43\n",
       "2472  2023-02-07  103.22  108.18  103.12  107.64   49010200     107.64\n",
       "1792  2020-05-27   71.00   71.27   69.73   71.01   31684000      71.01\n",
       "974   2017-02-24   42.38   42.42   42.15   42.39   26924000      42.39\n",
       "811   2016-07-01   35.26   35.63   35.19   35.51   30984000      35.51"
      ]
     },
     "execution_count": 16,
     "metadata": {},
     "output_type": "execute_result"
    }
   ],
   "source": [
    "train.head(10)"
   ]
  },
  {
   "cell_type": "code",
   "execution_count": 17,
   "id": "ae65b2c4",
   "metadata": {
    "execution": {
     "iopub.execute_input": "2023-04-21T06:42:30.260364Z",
     "iopub.status.busy": "2023-04-21T06:42:30.259817Z",
     "iopub.status.idle": "2023-04-21T06:42:30.281503Z",
     "shell.execute_reply": "2023-04-21T06:42:30.279583Z"
    },
    "papermill": {
     "duration": 0.037679,
     "end_time": "2023-04-21T06:42:30.284566",
     "exception": false,
     "start_time": "2023-04-21T06:42:30.246887",
     "status": "completed"
    },
    "tags": []
   },
   "outputs": [
    {
     "data": {
      "text/html": [
       "<div>\n",
       "<style scoped>\n",
       "    .dataframe tbody tr th:only-of-type {\n",
       "        vertical-align: middle;\n",
       "    }\n",
       "\n",
       "    .dataframe tbody tr th {\n",
       "        vertical-align: top;\n",
       "    }\n",
       "\n",
       "    .dataframe thead th {\n",
       "        text-align: right;\n",
       "    }\n",
       "</style>\n",
       "<table border=\"1\" class=\"dataframe\">\n",
       "  <thead>\n",
       "    <tr style=\"text-align: right;\">\n",
       "      <th></th>\n",
       "      <th>Date</th>\n",
       "      <th>Open</th>\n",
       "      <th>High</th>\n",
       "      <th>Low</th>\n",
       "      <th>Close</th>\n",
       "      <th>Volume</th>\n",
       "      <th>Adj Close</th>\n",
       "    </tr>\n",
       "  </thead>\n",
       "  <tbody>\n",
       "    <tr>\n",
       "      <th>428</th>\n",
       "      <td>2014-12-23</td>\n",
       "      <td>26.73</td>\n",
       "      <td>27.11</td>\n",
       "      <td>26.69</td>\n",
       "      <td>26.94</td>\n",
       "      <td>57544000</td>\n",
       "      <td>26.94</td>\n",
       "    </tr>\n",
       "    <tr>\n",
       "      <th>864</th>\n",
       "      <td>2016-09-16</td>\n",
       "      <td>39.95</td>\n",
       "      <td>39.95</td>\n",
       "      <td>39.68</td>\n",
       "      <td>39.90</td>\n",
       "      <td>42612000</td>\n",
       "      <td>39.90</td>\n",
       "    </tr>\n",
       "    <tr>\n",
       "      <th>819</th>\n",
       "      <td>2016-07-14</td>\n",
       "      <td>36.70</td>\n",
       "      <td>36.81</td>\n",
       "      <td>36.53</td>\n",
       "      <td>36.79</td>\n",
       "      <td>21408000</td>\n",
       "      <td>36.79</td>\n",
       "    </tr>\n",
       "    <tr>\n",
       "      <th>1481</th>\n",
       "      <td>2019-03-04</td>\n",
       "      <td>57.73</td>\n",
       "      <td>58.28</td>\n",
       "      <td>56.91</td>\n",
       "      <td>57.67</td>\n",
       "      <td>35490000</td>\n",
       "      <td>57.67</td>\n",
       "    </tr>\n",
       "    <tr>\n",
       "      <th>1238</th>\n",
       "      <td>2018-03-14</td>\n",
       "      <td>57.29</td>\n",
       "      <td>57.99</td>\n",
       "      <td>57.12</td>\n",
       "      <td>57.44</td>\n",
       "      <td>41870000</td>\n",
       "      <td>57.44</td>\n",
       "    </tr>\n",
       "    <tr>\n",
       "      <th>2254</th>\n",
       "      <td>2022-03-25</td>\n",
       "      <td>141.92</td>\n",
       "      <td>142.04</td>\n",
       "      <td>139.74</td>\n",
       "      <td>141.67</td>\n",
       "      <td>24126000</td>\n",
       "      <td>141.67</td>\n",
       "    </tr>\n",
       "    <tr>\n",
       "      <th>1186</th>\n",
       "      <td>2017-12-27</td>\n",
       "      <td>53.33</td>\n",
       "      <td>53.41</td>\n",
       "      <td>52.92</td>\n",
       "      <td>53.01</td>\n",
       "      <td>22324000</td>\n",
       "      <td>53.01</td>\n",
       "    </tr>\n",
       "    <tr>\n",
       "      <th>845</th>\n",
       "      <td>2016-08-19</td>\n",
       "      <td>39.99</td>\n",
       "      <td>40.06</td>\n",
       "      <td>39.84</td>\n",
       "      <td>39.98</td>\n",
       "      <td>22416000</td>\n",
       "      <td>39.98</td>\n",
       "    </tr>\n",
       "    <tr>\n",
       "      <th>190</th>\n",
       "      <td>2014-01-14</td>\n",
       "      <td>28.48</td>\n",
       "      <td>28.80</td>\n",
       "      <td>28.23</td>\n",
       "      <td>28.76</td>\n",
       "      <td>99204696</td>\n",
       "      <td>28.76</td>\n",
       "    </tr>\n",
       "    <tr>\n",
       "      <th>2206</th>\n",
       "      <td>2022-01-14</td>\n",
       "      <td>137.08</td>\n",
       "      <td>140.74</td>\n",
       "      <td>137.00</td>\n",
       "      <td>139.48</td>\n",
       "      <td>29662000</td>\n",
       "      <td>139.48</td>\n",
       "    </tr>\n",
       "  </tbody>\n",
       "</table>\n",
       "</div>"
      ],
      "text/plain": [
       "            Date    Open    High     Low   Close    Volume  Adj Close\n",
       "428   2014-12-23   26.73   27.11   26.69   26.94  57544000      26.94\n",
       "864   2016-09-16   39.95   39.95   39.68   39.90  42612000      39.90\n",
       "819   2016-07-14   36.70   36.81   36.53   36.79  21408000      36.79\n",
       "1481  2019-03-04   57.73   58.28   56.91   57.67  35490000      57.67\n",
       "1238  2018-03-14   57.29   57.99   57.12   57.44  41870000      57.44\n",
       "2254  2022-03-25  141.92  142.04  139.74  141.67  24126000     141.67\n",
       "1186  2017-12-27   53.33   53.41   52.92   53.01  22324000      53.01\n",
       "845   2016-08-19   39.99   40.06   39.84   39.98  22416000      39.98\n",
       "190   2014-01-14   28.48   28.80   28.23   28.76  99204696      28.76\n",
       "2206  2022-01-14  137.08  140.74  137.00  139.48  29662000     139.48"
      ]
     },
     "execution_count": 17,
     "metadata": {},
     "output_type": "execute_result"
    }
   ],
   "source": [
    "test.head(10)"
   ]
  },
  {
   "cell_type": "code",
   "execution_count": 18,
   "id": "7617737a",
   "metadata": {
    "execution": {
     "iopub.execute_input": "2023-04-21T06:42:30.309793Z",
     "iopub.status.busy": "2023-04-21T06:42:30.309246Z",
     "iopub.status.idle": "2023-04-21T06:42:30.320130Z",
     "shell.execute_reply": "2023-04-21T06:42:30.318515Z"
    },
    "papermill": {
     "duration": 0.02712,
     "end_time": "2023-04-21T06:42:30.323000",
     "exception": false,
     "start_time": "2023-04-21T06:42:30.295880",
     "status": "completed"
    },
    "tags": []
   },
   "outputs": [],
   "source": [
    "x_train = train[['Open', 'High', 'Low', 'Volume']].values\n",
    "x_test = test[['Open', 'High', 'Low', 'Volume']].values"
   ]
  },
  {
   "cell_type": "code",
   "execution_count": 19,
   "id": "5afe005f",
   "metadata": {
    "execution": {
     "iopub.execute_input": "2023-04-21T06:42:30.348545Z",
     "iopub.status.busy": "2023-04-21T06:42:30.348017Z",
     "iopub.status.idle": "2023-04-21T06:42:30.355166Z",
     "shell.execute_reply": "2023-04-21T06:42:30.353549Z"
    },
    "papermill": {
     "duration": 0.023638,
     "end_time": "2023-04-21T06:42:30.358338",
     "exception": false,
     "start_time": "2023-04-21T06:42:30.334700",
     "status": "completed"
    },
    "tags": []
   },
   "outputs": [],
   "source": [
    "y_train = train['Close'].values\n",
    "y_test = test['Close'].values"
   ]
  },
  {
   "cell_type": "code",
   "execution_count": 20,
   "id": "82700f36",
   "metadata": {
    "execution": {
     "iopub.execute_input": "2023-04-21T06:42:30.383719Z",
     "iopub.status.busy": "2023-04-21T06:42:30.383189Z",
     "iopub.status.idle": "2023-04-21T06:42:30.415437Z",
     "shell.execute_reply": "2023-04-21T06:42:30.413717Z"
    },
    "papermill": {
     "duration": 0.049069,
     "end_time": "2023-04-21T06:42:30.418800",
     "exception": false,
     "start_time": "2023-04-21T06:42:30.369731",
     "status": "completed"
    },
    "tags": []
   },
   "outputs": [
    {
     "data": {
      "text/plain": [
       "LinearRegression()"
      ]
     },
     "execution_count": 20,
     "metadata": {},
     "output_type": "execute_result"
    }
   ],
   "source": [
    "model_lnr = LinearRegression()\n",
    "model_lnr.fit(x_train, y_train)"
   ]
  },
  {
   "cell_type": "code",
   "execution_count": 21,
   "id": "04a89905",
   "metadata": {
    "execution": {
     "iopub.execute_input": "2023-04-21T06:42:30.444422Z",
     "iopub.status.busy": "2023-04-21T06:42:30.443871Z",
     "iopub.status.idle": "2023-04-21T06:42:30.450615Z",
     "shell.execute_reply": "2023-04-21T06:42:30.449201Z"
    },
    "papermill": {
     "duration": 0.023396,
     "end_time": "2023-04-21T06:42:30.453628",
     "exception": false,
     "start_time": "2023-04-21T06:42:30.430232",
     "status": "completed"
    },
    "tags": []
   },
   "outputs": [],
   "source": [
    "y_pred = model_lnr.predict(x_test)"
   ]
  },
  {
   "cell_type": "code",
   "execution_count": 22,
   "id": "dfed9bc8",
   "metadata": {
    "execution": {
     "iopub.execute_input": "2023-04-21T06:42:30.478597Z",
     "iopub.status.busy": "2023-04-21T06:42:30.478091Z",
     "iopub.status.idle": "2023-04-21T06:42:30.486408Z",
     "shell.execute_reply": "2023-04-21T06:42:30.484846Z"
    },
    "papermill": {
     "duration": 0.024569,
     "end_time": "2023-04-21T06:42:30.489586",
     "exception": false,
     "start_time": "2023-04-21T06:42:30.465017",
     "status": "completed"
    },
    "tags": []
   },
   "outputs": [
    {
     "name": "stdout",
     "output_type": "stream",
     "text": [
      "[19.69430188]\n"
     ]
    }
   ],
   "source": [
    "result = model_lnr.predict([[19.67,19.94,19.44,98025876]])\n",
    "print(result)"
   ]
  },
  {
   "cell_type": "code",
   "execution_count": 23,
   "id": "c1e4fada",
   "metadata": {
    "execution": {
     "iopub.execute_input": "2023-04-21T06:42:30.515052Z",
     "iopub.status.busy": "2023-04-21T06:42:30.514533Z",
     "iopub.status.idle": "2023-04-21T06:42:30.526801Z",
     "shell.execute_reply": "2023-04-21T06:42:30.525076Z"
    },
    "papermill": {
     "duration": 0.028813,
     "end_time": "2023-04-21T06:42:30.529661",
     "exception": false,
     "start_time": "2023-04-21T06:42:30.500848",
     "status": "completed"
    },
    "tags": []
   },
   "outputs": [
    {
     "name": "stdout",
     "output_type": "stream",
     "text": [
      "MSE 0.203\n",
      "RMSE 0.45\n",
      "MAE 0.282\n",
      "MAPE 0.004\n",
      "R2 Score :  1.0\n"
     ]
    }
   ],
   "source": [
    "print(\"MSE\",round(mean_squared_error(y_test,y_pred), 3))\n",
    "print(\"RMSE\",round(np.sqrt(mean_squared_error(y_test,y_pred)), 3))\n",
    "print(\"MAE\",round(mean_absolute_error(y_test,y_pred), 3))\n",
    "print(\"MAPE\",round(mean_absolute_percentage_error(y_test,y_pred), 3))\n",
    "print(\"R2 Score : \", round(r2_score(y_test,y_pred), 3))"
   ]
  }
 ],
 "metadata": {
  "kernelspec": {
   "display_name": "Python 3",
   "language": "python",
   "name": "python3"
  },
  "language_info": {
   "codemirror_mode": {
    "name": "ipython",
    "version": 3
   },
   "file_extension": ".py",
   "mimetype": "text/x-python",
   "name": "python",
   "nbconvert_exporter": "python",
   "pygments_lexer": "ipython3",
   "version": "3.7.12"
  },
  "papermill": {
   "default_parameters": {},
   "duration": 58.35755,
   "end_time": "2023-04-21T06:42:32.072766",
   "environment_variables": {},
   "exception": null,
   "input_path": "__notebook__.ipynb",
   "output_path": "__notebook__.ipynb",
   "parameters": {},
   "start_time": "2023-04-21T06:41:33.715216",
   "version": "2.4.0"
  }
 },
 "nbformat": 4,
 "nbformat_minor": 5
}
