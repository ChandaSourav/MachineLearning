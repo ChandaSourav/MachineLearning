{
 "cells": [
  {
   "cell_type": "code",
   "execution_count": 1,
   "id": "f9e6ee6f",
   "metadata": {
    "_cell_guid": "b1076dfc-b9ad-4769-8c92-a6c4dae69d19",
    "_uuid": "8f2839f25d086af736a60e9eeb907d3b93b6e0e5",
    "execution": {
     "iopub.execute_input": "2023-04-26T13:14:24.015972Z",
     "iopub.status.busy": "2023-04-26T13:14:24.015408Z",
     "iopub.status.idle": "2023-04-26T13:14:25.861523Z",
     "shell.execute_reply": "2023-04-26T13:14:25.860313Z"
    },
    "papermill": {
     "duration": 1.861057,
     "end_time": "2023-04-26T13:14:25.865151",
     "exception": false,
     "start_time": "2023-04-26T13:14:24.004094",
     "status": "completed"
    },
    "tags": []
   },
   "outputs": [
    {
     "name": "stdout",
     "output_type": "stream",
     "text": [
      "/kaggle/input/stock-price-forecast/ISCTR.IS (1).csv\n"
     ]
    }
   ],
   "source": [
    "import numpy as np \n",
    "import pandas as pd \n",
    "import matplotlib.pyplot as plt\n",
    "from sklearn.model_selection import train_test_split\n",
    "from sklearn.linear_model import LinearRegression\n",
    "from sklearn.metrics import mean_squared_error, mean_absolute_error, mean_absolute_percentage_error,r2_score\n",
    "import seaborn as sns\n",
    "import os\n",
    "for dirname, _, filenames in os.walk('/kaggle/input'):\n",
    "    for filename in filenames:\n",
    "        print(os.path.join(dirname, filename))\n",
    "\n",
    "import warnings\n",
    "warnings.filterwarnings('ignore')"
   ]
  },
  {
   "cell_type": "code",
   "execution_count": 2,
   "id": "b1bcf29b",
   "metadata": {
    "execution": {
     "iopub.execute_input": "2023-04-26T13:14:25.882754Z",
     "iopub.status.busy": "2023-04-26T13:14:25.881633Z",
     "iopub.status.idle": "2023-04-26T13:14:25.903651Z",
     "shell.execute_reply": "2023-04-26T13:14:25.902019Z"
    },
    "papermill": {
     "duration": 0.034524,
     "end_time": "2023-04-26T13:14:25.907163",
     "exception": false,
     "start_time": "2023-04-26T13:14:25.872639",
     "status": "completed"
    },
    "tags": []
   },
   "outputs": [],
   "source": [
    "df = pd.read_csv('/kaggle/input/stock-price-forecast/ISCTR.IS (1).csv')"
   ]
  },
  {
   "cell_type": "code",
   "execution_count": 3,
   "id": "2dfb5d9b",
   "metadata": {
    "execution": {
     "iopub.execute_input": "2023-04-26T13:14:25.924238Z",
     "iopub.status.busy": "2023-04-26T13:14:25.923497Z",
     "iopub.status.idle": "2023-04-26T13:14:25.930525Z",
     "shell.execute_reply": "2023-04-26T13:14:25.929310Z"
    },
    "papermill": {
     "duration": 0.018563,
     "end_time": "2023-04-26T13:14:25.933107",
     "exception": false,
     "start_time": "2023-04-26T13:14:25.914544",
     "status": "completed"
    },
    "tags": []
   },
   "outputs": [],
   "source": [
    "viz = df.copy()"
   ]
  },
  {
   "cell_type": "code",
   "execution_count": 4,
   "id": "a2ffe418",
   "metadata": {
    "execution": {
     "iopub.execute_input": "2023-04-26T13:14:25.950745Z",
     "iopub.status.busy": "2023-04-26T13:14:25.949690Z",
     "iopub.status.idle": "2023-04-26T13:14:25.987980Z",
     "shell.execute_reply": "2023-04-26T13:14:25.986420Z"
    },
    "papermill": {
     "duration": 0.050412,
     "end_time": "2023-04-26T13:14:25.990895",
     "exception": false,
     "start_time": "2023-04-26T13:14:25.940483",
     "status": "completed"
    },
    "tags": []
   },
   "outputs": [
    {
     "data": {
      "text/html": [
       "<div>\n",
       "<style scoped>\n",
       "    .dataframe tbody tr th:only-of-type {\n",
       "        vertical-align: middle;\n",
       "    }\n",
       "\n",
       "    .dataframe tbody tr th {\n",
       "        vertical-align: top;\n",
       "    }\n",
       "\n",
       "    .dataframe thead th {\n",
       "        text-align: right;\n",
       "    }\n",
       "</style>\n",
       "<table border=\"1\" class=\"dataframe\">\n",
       "  <thead>\n",
       "    <tr style=\"text-align: right;\">\n",
       "      <th></th>\n",
       "      <th>Date</th>\n",
       "      <th>Open</th>\n",
       "      <th>High</th>\n",
       "      <th>Low</th>\n",
       "      <th>Close</th>\n",
       "      <th>Adj Close</th>\n",
       "      <th>Volume</th>\n",
       "    </tr>\n",
       "  </thead>\n",
       "  <tbody>\n",
       "    <tr>\n",
       "      <th>0</th>\n",
       "      <td>2015-02-17</td>\n",
       "      <td>2.970060</td>\n",
       "      <td>2.997060</td>\n",
       "      <td>2.902558</td>\n",
       "      <td>2.902558</td>\n",
       "      <td>2.349932</td>\n",
       "      <td>55057948.0</td>\n",
       "    </tr>\n",
       "    <tr>\n",
       "      <th>1</th>\n",
       "      <td>2015-02-18</td>\n",
       "      <td>2.920559</td>\n",
       "      <td>2.979060</td>\n",
       "      <td>2.916059</td>\n",
       "      <td>2.956560</td>\n",
       "      <td>2.393652</td>\n",
       "      <td>31801480.0</td>\n",
       "    </tr>\n",
       "    <tr>\n",
       "      <th>2</th>\n",
       "      <td>2015-02-19</td>\n",
       "      <td>3.006061</td>\n",
       "      <td>3.006061</td>\n",
       "      <td>2.965560</td>\n",
       "      <td>2.992560</td>\n",
       "      <td>2.422798</td>\n",
       "      <td>37002206.0</td>\n",
       "    </tr>\n",
       "    <tr>\n",
       "      <th>3</th>\n",
       "      <td>2015-02-20</td>\n",
       "      <td>2.988060</td>\n",
       "      <td>2.988060</td>\n",
       "      <td>2.929559</td>\n",
       "      <td>2.938559</td>\n",
       "      <td>2.379078</td>\n",
       "      <td>30158007.0</td>\n",
       "    </tr>\n",
       "    <tr>\n",
       "      <th>4</th>\n",
       "      <td>2015-02-23</td>\n",
       "      <td>2.866558</td>\n",
       "      <td>2.889058</td>\n",
       "      <td>2.857558</td>\n",
       "      <td>2.875558</td>\n",
       "      <td>2.328072</td>\n",
       "      <td>83954148.0</td>\n",
       "    </tr>\n",
       "    <tr>\n",
       "      <th>5</th>\n",
       "      <td>2015-02-24</td>\n",
       "      <td>2.898058</td>\n",
       "      <td>2.916059</td>\n",
       "      <td>2.875558</td>\n",
       "      <td>2.911559</td>\n",
       "      <td>2.357219</td>\n",
       "      <td>79967589.0</td>\n",
       "    </tr>\n",
       "    <tr>\n",
       "      <th>6</th>\n",
       "      <td>2015-02-25</td>\n",
       "      <td>2.992560</td>\n",
       "      <td>2.997060</td>\n",
       "      <td>2.934059</td>\n",
       "      <td>2.943059</td>\n",
       "      <td>2.382722</td>\n",
       "      <td>37755186.0</td>\n",
       "    </tr>\n",
       "    <tr>\n",
       "      <th>7</th>\n",
       "      <td>2015-02-26</td>\n",
       "      <td>2.974560</td>\n",
       "      <td>2.983560</td>\n",
       "      <td>2.916059</td>\n",
       "      <td>2.916059</td>\n",
       "      <td>2.360862</td>\n",
       "      <td>43176303.0</td>\n",
       "    </tr>\n",
       "    <tr>\n",
       "      <th>8</th>\n",
       "      <td>2015-02-27</td>\n",
       "      <td>2.826057</td>\n",
       "      <td>2.862058</td>\n",
       "      <td>2.808057</td>\n",
       "      <td>2.830557</td>\n",
       "      <td>2.291639</td>\n",
       "      <td>79117913.0</td>\n",
       "    </tr>\n",
       "    <tr>\n",
       "      <th>9</th>\n",
       "      <td>2015-03-02</td>\n",
       "      <td>2.853057</td>\n",
       "      <td>2.862058</td>\n",
       "      <td>2.830557</td>\n",
       "      <td>2.853057</td>\n",
       "      <td>2.309855</td>\n",
       "      <td>33613775.0</td>\n",
       "    </tr>\n",
       "  </tbody>\n",
       "</table>\n",
       "</div>"
      ],
      "text/plain": [
       "         Date      Open      High       Low     Close  Adj Close      Volume\n",
       "0  2015-02-17  2.970060  2.997060  2.902558  2.902558   2.349932  55057948.0\n",
       "1  2015-02-18  2.920559  2.979060  2.916059  2.956560   2.393652  31801480.0\n",
       "2  2015-02-19  3.006061  3.006061  2.965560  2.992560   2.422798  37002206.0\n",
       "3  2015-02-20  2.988060  2.988060  2.929559  2.938559   2.379078  30158007.0\n",
       "4  2015-02-23  2.866558  2.889058  2.857558  2.875558   2.328072  83954148.0\n",
       "5  2015-02-24  2.898058  2.916059  2.875558  2.911559   2.357219  79967589.0\n",
       "6  2015-02-25  2.992560  2.997060  2.934059  2.943059   2.382722  37755186.0\n",
       "7  2015-02-26  2.974560  2.983560  2.916059  2.916059   2.360862  43176303.0\n",
       "8  2015-02-27  2.826057  2.862058  2.808057  2.830557   2.291639  79117913.0\n",
       "9  2015-03-02  2.853057  2.862058  2.830557  2.853057   2.309855  33613775.0"
      ]
     },
     "execution_count": 4,
     "metadata": {},
     "output_type": "execute_result"
    }
   ],
   "source": [
    "df.head(10)"
   ]
  },
  {
   "cell_type": "code",
   "execution_count": 5,
   "id": "b6131de9",
   "metadata": {
    "execution": {
     "iopub.execute_input": "2023-04-26T13:14:26.008745Z",
     "iopub.status.busy": "2023-04-26T13:14:26.008245Z",
     "iopub.status.idle": "2023-04-26T13:14:26.036615Z",
     "shell.execute_reply": "2023-04-26T13:14:26.034872Z"
    },
    "papermill": {
     "duration": 0.041497,
     "end_time": "2023-04-26T13:14:26.039939",
     "exception": false,
     "start_time": "2023-04-26T13:14:25.998442",
     "status": "completed"
    },
    "tags": []
   },
   "outputs": [
    {
     "name": "stdout",
     "output_type": "stream",
     "text": [
      "<class 'pandas.core.frame.DataFrame'>\n",
      "RangeIndex: 2057 entries, 0 to 2056\n",
      "Data columns (total 7 columns):\n",
      " #   Column     Non-Null Count  Dtype  \n",
      "---  ------     --------------  -----  \n",
      " 0   Date       2057 non-null   object \n",
      " 1   Open       2056 non-null   float64\n",
      " 2   High       2056 non-null   float64\n",
      " 3   Low        2056 non-null   float64\n",
      " 4   Close      2056 non-null   float64\n",
      " 5   Adj Close  2056 non-null   float64\n",
      " 6   Volume     2056 non-null   float64\n",
      "dtypes: float64(6), object(1)\n",
      "memory usage: 112.6+ KB\n"
     ]
    }
   ],
   "source": [
    "df.info()"
   ]
  },
  {
   "cell_type": "code",
   "execution_count": 6,
   "id": "0a7d8d39",
   "metadata": {
    "execution": {
     "iopub.execute_input": "2023-04-26T13:14:26.059046Z",
     "iopub.status.busy": "2023-04-26T13:14:26.057332Z",
     "iopub.status.idle": "2023-04-26T13:14:26.069669Z",
     "shell.execute_reply": "2023-04-26T13:14:26.068269Z"
    },
    "papermill": {
     "duration": 0.024847,
     "end_time": "2023-04-26T13:14:26.072548",
     "exception": false,
     "start_time": "2023-04-26T13:14:26.047701",
     "status": "completed"
    },
    "tags": []
   },
   "outputs": [
    {
     "data": {
      "text/plain": [
       "Date         0\n",
       "Open         1\n",
       "High         1\n",
       "Low          1\n",
       "Close        1\n",
       "Adj Close    1\n",
       "Volume       1\n",
       "dtype: int64"
      ]
     },
     "execution_count": 6,
     "metadata": {},
     "output_type": "execute_result"
    }
   ],
   "source": [
    "df.isnull().sum()"
   ]
  },
  {
   "cell_type": "code",
   "execution_count": 7,
   "id": "efadf5e7",
   "metadata": {
    "execution": {
     "iopub.execute_input": "2023-04-26T13:14:26.090811Z",
     "iopub.status.busy": "2023-04-26T13:14:26.090267Z",
     "iopub.status.idle": "2023-04-26T13:14:26.114738Z",
     "shell.execute_reply": "2023-04-26T13:14:26.113199Z"
    },
    "papermill": {
     "duration": 0.037759,
     "end_time": "2023-04-26T13:14:26.118167",
     "exception": false,
     "start_time": "2023-04-26T13:14:26.080408",
     "status": "completed"
    },
    "tags": []
   },
   "outputs": [
    {
     "data": {
      "text/html": [
       "<div>\n",
       "<style scoped>\n",
       "    .dataframe tbody tr th:only-of-type {\n",
       "        vertical-align: middle;\n",
       "    }\n",
       "\n",
       "    .dataframe tbody tr th {\n",
       "        vertical-align: top;\n",
       "    }\n",
       "\n",
       "    .dataframe thead th {\n",
       "        text-align: right;\n",
       "    }\n",
       "</style>\n",
       "<table border=\"1\" class=\"dataframe\">\n",
       "  <thead>\n",
       "    <tr style=\"text-align: right;\">\n",
       "      <th></th>\n",
       "      <th>Date</th>\n",
       "      <th>Open</th>\n",
       "      <th>High</th>\n",
       "      <th>Low</th>\n",
       "      <th>Close</th>\n",
       "      <th>Adj Close</th>\n",
       "      <th>Volume</th>\n",
       "    </tr>\n",
       "  </thead>\n",
       "  <tbody>\n",
       "    <tr>\n",
       "      <th>0</th>\n",
       "      <td>2015-02-17</td>\n",
       "      <td>2.970060</td>\n",
       "      <td>2.997060</td>\n",
       "      <td>2.902558</td>\n",
       "      <td>2.902558</td>\n",
       "      <td>2.349932</td>\n",
       "      <td>55057948.0</td>\n",
       "    </tr>\n",
       "    <tr>\n",
       "      <th>1</th>\n",
       "      <td>2015-02-18</td>\n",
       "      <td>2.920559</td>\n",
       "      <td>2.979060</td>\n",
       "      <td>2.916059</td>\n",
       "      <td>2.956560</td>\n",
       "      <td>2.393652</td>\n",
       "      <td>31801480.0</td>\n",
       "    </tr>\n",
       "    <tr>\n",
       "      <th>2</th>\n",
       "      <td>2015-02-19</td>\n",
       "      <td>3.006061</td>\n",
       "      <td>3.006061</td>\n",
       "      <td>2.965560</td>\n",
       "      <td>2.992560</td>\n",
       "      <td>2.422798</td>\n",
       "      <td>37002206.0</td>\n",
       "    </tr>\n",
       "    <tr>\n",
       "      <th>3</th>\n",
       "      <td>2015-02-20</td>\n",
       "      <td>2.988060</td>\n",
       "      <td>2.988060</td>\n",
       "      <td>2.929559</td>\n",
       "      <td>2.938559</td>\n",
       "      <td>2.379078</td>\n",
       "      <td>30158007.0</td>\n",
       "    </tr>\n",
       "    <tr>\n",
       "      <th>4</th>\n",
       "      <td>2015-02-23</td>\n",
       "      <td>2.866558</td>\n",
       "      <td>2.889058</td>\n",
       "      <td>2.857558</td>\n",
       "      <td>2.875558</td>\n",
       "      <td>2.328072</td>\n",
       "      <td>83954148.0</td>\n",
       "    </tr>\n",
       "    <tr>\n",
       "      <th>5</th>\n",
       "      <td>2015-02-24</td>\n",
       "      <td>2.898058</td>\n",
       "      <td>2.916059</td>\n",
       "      <td>2.875558</td>\n",
       "      <td>2.911559</td>\n",
       "      <td>2.357219</td>\n",
       "      <td>79967589.0</td>\n",
       "    </tr>\n",
       "    <tr>\n",
       "      <th>6</th>\n",
       "      <td>2015-02-25</td>\n",
       "      <td>2.992560</td>\n",
       "      <td>2.997060</td>\n",
       "      <td>2.934059</td>\n",
       "      <td>2.943059</td>\n",
       "      <td>2.382722</td>\n",
       "      <td>37755186.0</td>\n",
       "    </tr>\n",
       "    <tr>\n",
       "      <th>7</th>\n",
       "      <td>2015-02-26</td>\n",
       "      <td>2.974560</td>\n",
       "      <td>2.983560</td>\n",
       "      <td>2.916059</td>\n",
       "      <td>2.916059</td>\n",
       "      <td>2.360862</td>\n",
       "      <td>43176303.0</td>\n",
       "    </tr>\n",
       "    <tr>\n",
       "      <th>8</th>\n",
       "      <td>2015-02-27</td>\n",
       "      <td>2.826057</td>\n",
       "      <td>2.862058</td>\n",
       "      <td>2.808057</td>\n",
       "      <td>2.830557</td>\n",
       "      <td>2.291639</td>\n",
       "      <td>79117913.0</td>\n",
       "    </tr>\n",
       "    <tr>\n",
       "      <th>9</th>\n",
       "      <td>2015-03-02</td>\n",
       "      <td>2.853057</td>\n",
       "      <td>2.862058</td>\n",
       "      <td>2.830557</td>\n",
       "      <td>2.853057</td>\n",
       "      <td>2.309855</td>\n",
       "      <td>33613775.0</td>\n",
       "    </tr>\n",
       "  </tbody>\n",
       "</table>\n",
       "</div>"
      ],
      "text/plain": [
       "         Date      Open      High       Low     Close  Adj Close      Volume\n",
       "0  2015-02-17  2.970060  2.997060  2.902558  2.902558   2.349932  55057948.0\n",
       "1  2015-02-18  2.920559  2.979060  2.916059  2.956560   2.393652  31801480.0\n",
       "2  2015-02-19  3.006061  3.006061  2.965560  2.992560   2.422798  37002206.0\n",
       "3  2015-02-20  2.988060  2.988060  2.929559  2.938559   2.379078  30158007.0\n",
       "4  2015-02-23  2.866558  2.889058  2.857558  2.875558   2.328072  83954148.0\n",
       "5  2015-02-24  2.898058  2.916059  2.875558  2.911559   2.357219  79967589.0\n",
       "6  2015-02-25  2.992560  2.997060  2.934059  2.943059   2.382722  37755186.0\n",
       "7  2015-02-26  2.974560  2.983560  2.916059  2.916059   2.360862  43176303.0\n",
       "8  2015-02-27  2.826057  2.862058  2.808057  2.830557   2.291639  79117913.0\n",
       "9  2015-03-02  2.853057  2.862058  2.830557  2.853057   2.309855  33613775.0"
      ]
     },
     "execution_count": 7,
     "metadata": {},
     "output_type": "execute_result"
    }
   ],
   "source": [
    "df=df.dropna(how='any', subset=['Open','High','Low','Close','Adj Close','Volume'])\n",
    "df.head(10)"
   ]
  },
  {
   "cell_type": "code",
   "execution_count": 8,
   "id": "2c1837ba",
   "metadata": {
    "execution": {
     "iopub.execute_input": "2023-04-26T13:14:26.136703Z",
     "iopub.status.busy": "2023-04-26T13:14:26.136193Z",
     "iopub.status.idle": "2023-04-26T13:14:26.149478Z",
     "shell.execute_reply": "2023-04-26T13:14:26.148014Z"
    },
    "papermill": {
     "duration": 0.025993,
     "end_time": "2023-04-26T13:14:26.152418",
     "exception": false,
     "start_time": "2023-04-26T13:14:26.126425",
     "status": "completed"
    },
    "tags": []
   },
   "outputs": [
    {
     "data": {
      "text/plain": [
       "Date         0\n",
       "Open         0\n",
       "High         0\n",
       "Low          0\n",
       "Close        0\n",
       "Adj Close    0\n",
       "Volume       0\n",
       "dtype: int64"
      ]
     },
     "execution_count": 8,
     "metadata": {},
     "output_type": "execute_result"
    }
   ],
   "source": [
    "df.isnull().sum()"
   ]
  },
  {
   "cell_type": "code",
   "execution_count": 9,
   "id": "91b966a4",
   "metadata": {
    "execution": {
     "iopub.execute_input": "2023-04-26T13:14:26.171734Z",
     "iopub.status.busy": "2023-04-26T13:14:26.170663Z",
     "iopub.status.idle": "2023-04-26T13:14:26.180129Z",
     "shell.execute_reply": "2023-04-26T13:14:26.178866Z"
    },
    "papermill": {
     "duration": 0.022274,
     "end_time": "2023-04-26T13:14:26.182948",
     "exception": false,
     "start_time": "2023-04-26T13:14:26.160674",
     "status": "completed"
    },
    "tags": []
   },
   "outputs": [
    {
     "data": {
      "text/plain": [
       "(2056, 7)"
      ]
     },
     "execution_count": 9,
     "metadata": {},
     "output_type": "execute_result"
    }
   ],
   "source": [
    "df.shape"
   ]
  },
  {
   "cell_type": "code",
   "execution_count": 10,
   "id": "d5525eec",
   "metadata": {
    "execution": {
     "iopub.execute_input": "2023-04-26T13:14:26.203728Z",
     "iopub.status.busy": "2023-04-26T13:14:26.202662Z",
     "iopub.status.idle": "2023-04-26T13:14:26.741591Z",
     "shell.execute_reply": "2023-04-26T13:14:26.740567Z"
    },
    "papermill": {
     "duration": 0.552907,
     "end_time": "2023-04-26T13:14:26.744068",
     "exception": false,
     "start_time": "2023-04-26T13:14:26.191161",
     "status": "completed"
    },
    "tags": []
   },
   "outputs": [
    {
     "data": {
      "text/plain": [
       "<AxesSubplot:>"
      ]
     },
     "execution_count": 10,
     "metadata": {},
     "output_type": "execute_result"
    },
    {
     "data": {
      "image/png": "[encoded data removed]",
      "text/plain": [
       "<Figure size 640x480 with 2 Axes>"
      ]
     },
     "metadata": {},
     "output_type": "display_data"
    }
   ],
   "source": [
    "sns.heatmap(df.isnull())"
   ]
  },
  {
   "cell_type": "code",
   "execution_count": 11,
   "id": "5370041f",
   "metadata": {
    "execution": {
     "iopub.execute_input": "2023-04-26T13:14:26.768470Z",
     "iopub.status.busy": "2023-04-26T13:14:26.767508Z",
     "iopub.status.idle": "2023-04-26T13:14:27.344146Z",
     "shell.execute_reply": "2023-04-26T13:14:27.342966Z"
    },
    "papermill": {
     "duration": 0.592644,
     "end_time": "2023-04-26T13:14:27.347136",
     "exception": false,
     "start_time": "2023-04-26T13:14:26.754492",
     "status": "completed"
    },
    "tags": []
   },
   "outputs": [
    {
     "data": {
      "image/png": "[encoded data removed]",
      "text/plain": [
       "<Figure size 2000x800 with 1 Axes>"
      ]
     },
     "metadata": {},
     "output_type": "display_data"
    }
   ],
   "source": [
    "fig, ax = plt.subplots(figsize=(20,8))\n",
    "ax.plot(df['Date'], df['Close'], color='Red')\n",
    "ax.xaxis.set_major_locator(plt.MaxNLocator(15))\n",
    "plt.title('Stock Prices')\n",
    "plt.grid()\n",
    "plt.show()"
   ]
  },
  {
   "cell_type": "code",
   "execution_count": 12,
   "id": "9ee75997",
   "metadata": {
    "execution": {
     "iopub.execute_input": "2023-04-26T13:14:27.368678Z",
     "iopub.status.busy": "2023-04-26T13:14:27.368278Z",
     "iopub.status.idle": "2023-04-26T13:14:27.374382Z",
     "shell.execute_reply": "2023-04-26T13:14:27.373029Z"
    },
    "papermill": {
     "duration": 0.020065,
     "end_time": "2023-04-26T13:14:27.376952",
     "exception": false,
     "start_time": "2023-04-26T13:14:27.356887",
     "status": "completed"
    },
    "tags": []
   },
   "outputs": [],
   "source": [
    "def volume_analysis(df,cmp):\n",
    "    plt.figure(figsize=(10,5))\n",
    "    plt.plot(df['Date'],df['Volume'],c='blue')\n",
    "    plt.title('Volume '+cmp+' Stock Traded')\n",
    "    plt.ylabel('Volume')\n",
    "    plt.show()"
   ]
  },
  {
   "cell_type": "code",
   "execution_count": 13,
   "id": "82f69534",
   "metadata": {
    "execution": {
     "iopub.execute_input": "2023-04-26T13:14:27.398462Z",
     "iopub.status.busy": "2023-04-26T13:14:27.398032Z",
     "iopub.status.idle": "2023-04-26T13:14:49.865513Z",
     "shell.execute_reply": "2023-04-26T13:14:49.864226Z"
    },
    "papermill": {
     "duration": 22.481747,
     "end_time": "2023-04-26T13:14:49.868162",
     "exception": false,
     "start_time": "2023-04-26T13:14:27.386415",
     "status": "completed"
    },
    "tags": []
   },
   "outputs": [
    {
     "data": {
      "image/png": "[encoded data removed]",
      "text/plain": [
       "<Figure size 1000x500 with 1 Axes>"
      ]
     },
     "metadata": {},
     "output_type": "display_data"
    }
   ],
   "source": [
    "volume_analysis(df,'of')"
   ]
  },
  {
   "cell_type": "code",
   "execution_count": 14,
   "id": "45f17eb7",
   "metadata": {
    "execution": {
     "iopub.execute_input": "2023-04-26T13:14:49.891604Z",
     "iopub.status.busy": "2023-04-26T13:14:49.891176Z",
     "iopub.status.idle": "2023-04-26T13:14:49.899676Z",
     "shell.execute_reply": "2023-04-26T13:14:49.898683Z"
    },
    "papermill": {
     "duration": 0.023316,
     "end_time": "2023-04-26T13:14:49.902183",
     "exception": false,
     "start_time": "2023-04-26T13:14:49.878867",
     "status": "completed"
    },
    "tags": []
   },
   "outputs": [],
   "source": [
    "train, test = train_test_split(df, test_size = 0.2)"
   ]
  },
  {
   "cell_type": "code",
   "execution_count": 15,
   "id": "44711a41",
   "metadata": {
    "execution": {
     "iopub.execute_input": "2023-04-26T13:14:49.925129Z",
     "iopub.status.busy": "2023-04-26T13:14:49.924267Z",
     "iopub.status.idle": "2023-04-26T13:14:49.931039Z",
     "shell.execute_reply": "2023-04-26T13:14:49.929622Z"
    },
    "papermill": {
     "duration": 0.021248,
     "end_time": "2023-04-26T13:14:49.933807",
     "exception": false,
     "start_time": "2023-04-26T13:14:49.912559",
     "status": "completed"
    },
    "tags": []
   },
   "outputs": [],
   "source": [
    "test_pred = test.copy()"
   ]
  },
  {
   "cell_type": "code",
   "execution_count": 16,
   "id": "9f63c3d2",
   "metadata": {
    "execution": {
     "iopub.execute_input": "2023-04-26T13:14:49.957018Z",
     "iopub.status.busy": "2023-04-26T13:14:49.956575Z",
     "iopub.status.idle": "2023-04-26T13:14:49.974813Z",
     "shell.execute_reply": "2023-04-26T13:14:49.973316Z"
    },
    "papermill": {
     "duration": 0.033073,
     "end_time": "2023-04-26T13:14:49.977488",
     "exception": false,
     "start_time": "2023-04-26T13:14:49.944415",
     "status": "completed"
    },
    "tags": []
   },
   "outputs": [
    {
     "data": {
      "text/html": [
       "<div>\n",
       "<style scoped>\n",
       "    .dataframe tbody tr th:only-of-type {\n",
       "        vertical-align: middle;\n",
       "    }\n",
       "\n",
       "    .dataframe tbody tr th {\n",
       "        vertical-align: top;\n",
       "    }\n",
       "\n",
       "    .dataframe thead th {\n",
       "        text-align: right;\n",
       "    }\n",
       "</style>\n",
       "<table border=\"1\" class=\"dataframe\">\n",
       "  <thead>\n",
       "    <tr style=\"text-align: right;\">\n",
       "      <th></th>\n",
       "      <th>Date</th>\n",
       "      <th>Open</th>\n",
       "      <th>High</th>\n",
       "      <th>Low</th>\n",
       "      <th>Close</th>\n",
       "      <th>Adj Close</th>\n",
       "      <th>Volume</th>\n",
       "    </tr>\n",
       "  </thead>\n",
       "  <tbody>\n",
       "    <tr>\n",
       "      <th>238</th>\n",
       "      <td>2016-01-15</td>\n",
       "      <td>2.070042</td>\n",
       "      <td>2.083542</td>\n",
       "      <td>2.034041</td>\n",
       "      <td>2.056541</td>\n",
       "      <td>1.709167</td>\n",
       "      <td>121621792.0</td>\n",
       "    </tr>\n",
       "    <tr>\n",
       "      <th>474</th>\n",
       "      <td>2016-12-12</td>\n",
       "      <td>2.245545</td>\n",
       "      <td>2.286046</td>\n",
       "      <td>2.218545</td>\n",
       "      <td>2.281546</td>\n",
       "      <td>1.967715</td>\n",
       "      <td>52691518.0</td>\n",
       "    </tr>\n",
       "    <tr>\n",
       "      <th>290</th>\n",
       "      <td>2016-03-29</td>\n",
       "      <td>2.101542</td>\n",
       "      <td>2.128543</td>\n",
       "      <td>2.101542</td>\n",
       "      <td>2.119543</td>\n",
       "      <td>1.761527</td>\n",
       "      <td>72220669.0</td>\n",
       "    </tr>\n",
       "    <tr>\n",
       "      <th>1446</th>\n",
       "      <td>2020-09-16</td>\n",
       "      <td>2.263545</td>\n",
       "      <td>2.277046</td>\n",
       "      <td>2.250045</td>\n",
       "      <td>2.259045</td>\n",
       "      <td>2.115312</td>\n",
       "      <td>37180740.0</td>\n",
       "    </tr>\n",
       "    <tr>\n",
       "      <th>1585</th>\n",
       "      <td>2021-04-01</td>\n",
       "      <td>2.182544</td>\n",
       "      <td>2.299546</td>\n",
       "      <td>2.178044</td>\n",
       "      <td>2.299546</td>\n",
       "      <td>2.153236</td>\n",
       "      <td>135251393.0</td>\n",
       "    </tr>\n",
       "    <tr>\n",
       "      <th>1601</th>\n",
       "      <td>2021-04-26</td>\n",
       "      <td>2.178044</td>\n",
       "      <td>2.209544</td>\n",
       "      <td>2.164543</td>\n",
       "      <td>2.182544</td>\n",
       "      <td>2.106058</td>\n",
       "      <td>75917034.0</td>\n",
       "    </tr>\n",
       "    <tr>\n",
       "      <th>57</th>\n",
       "      <td>2015-05-07</td>\n",
       "      <td>2.587552</td>\n",
       "      <td>2.619053</td>\n",
       "      <td>2.587552</td>\n",
       "      <td>2.610052</td>\n",
       "      <td>2.169183</td>\n",
       "      <td>49129953.0</td>\n",
       "    </tr>\n",
       "    <tr>\n",
       "      <th>1040</th>\n",
       "      <td>2019-02-12</td>\n",
       "      <td>2.475050</td>\n",
       "      <td>2.578552</td>\n",
       "      <td>2.475050</td>\n",
       "      <td>2.529051</td>\n",
       "      <td>2.368139</td>\n",
       "      <td>169626791.0</td>\n",
       "    </tr>\n",
       "    <tr>\n",
       "      <th>982</th>\n",
       "      <td>2018-11-22</td>\n",
       "      <td>1.822537</td>\n",
       "      <td>1.831537</td>\n",
       "      <td>1.804536</td>\n",
       "      <td>1.822537</td>\n",
       "      <td>1.706577</td>\n",
       "      <td>46603120.0</td>\n",
       "    </tr>\n",
       "    <tr>\n",
       "      <th>365</th>\n",
       "      <td>2016-07-12</td>\n",
       "      <td>2.151043</td>\n",
       "      <td>2.200544</td>\n",
       "      <td>2.142043</td>\n",
       "      <td>2.196044</td>\n",
       "      <td>1.893973</td>\n",
       "      <td>159364168.0</td>\n",
       "    </tr>\n",
       "  </tbody>\n",
       "</table>\n",
       "</div>"
      ],
      "text/plain": [
       "            Date      Open      High       Low     Close  Adj Close  \\\n",
       "238   2016-01-15  2.070042  2.083542  2.034041  2.056541   1.709167   \n",
       "474   2016-12-12  2.245545  2.286046  2.218545  2.281546   1.967715   \n",
       "290   2016-03-29  2.101542  2.128543  2.101542  2.119543   1.761527   \n",
       "1446  2020-09-16  2.263545  2.277046  2.250045  2.259045   2.115312   \n",
       "1585  2021-04-01  2.182544  2.299546  2.178044  2.299546   2.153236   \n",
       "1601  2021-04-26  2.178044  2.209544  2.164543  2.182544   2.106058   \n",
       "57    2015-05-07  2.587552  2.619053  2.587552  2.610052   2.169183   \n",
       "1040  2019-02-12  2.475050  2.578552  2.475050  2.529051   2.368139   \n",
       "982   2018-11-22  1.822537  1.831537  1.804536  1.822537   1.706577   \n",
       "365   2016-07-12  2.151043  2.200544  2.142043  2.196044   1.893973   \n",
       "\n",
       "           Volume  \n",
       "238   121621792.0  \n",
       "474    52691518.0  \n",
       "290    72220669.0  \n",
       "1446   37180740.0  \n",
       "1585  135251393.0  \n",
       "1601   75917034.0  \n",
       "57     49129953.0  \n",
       "1040  169626791.0  \n",
       "982    46603120.0  \n",
       "365   159364168.0  "
      ]
     },
     "execution_count": 16,
     "metadata": {},
     "output_type": "execute_result"
    }
   ],
   "source": [
    "train.head(10)"
   ]
  },
  {
   "cell_type": "code",
   "execution_count": 17,
   "id": "481c5f90",
   "metadata": {
    "execution": {
     "iopub.execute_input": "2023-04-26T13:14:50.000711Z",
     "iopub.status.busy": "2023-04-26T13:14:50.000291Z",
     "iopub.status.idle": "2023-04-26T13:14:50.018790Z",
     "shell.execute_reply": "2023-04-26T13:14:50.017406Z"
    },
    "papermill": {
     "duration": 0.03344,
     "end_time": "2023-04-26T13:14:50.021544",
     "exception": false,
     "start_time": "2023-04-26T13:14:49.988104",
     "status": "completed"
    },
    "tags": []
   },
   "outputs": [
    {
     "data": {
      "text/html": [
       "<div>\n",
       "<style scoped>\n",
       "    .dataframe tbody tr th:only-of-type {\n",
       "        vertical-align: middle;\n",
       "    }\n",
       "\n",
       "    .dataframe tbody tr th {\n",
       "        vertical-align: top;\n",
       "    }\n",
       "\n",
       "    .dataframe thead th {\n",
       "        text-align: right;\n",
       "    }\n",
       "</style>\n",
       "<table border=\"1\" class=\"dataframe\">\n",
       "  <thead>\n",
       "    <tr style=\"text-align: right;\">\n",
       "      <th></th>\n",
       "      <th>Date</th>\n",
       "      <th>Open</th>\n",
       "      <th>High</th>\n",
       "      <th>Low</th>\n",
       "      <th>Close</th>\n",
       "      <th>Adj Close</th>\n",
       "      <th>Volume</th>\n",
       "    </tr>\n",
       "  </thead>\n",
       "  <tbody>\n",
       "    <tr>\n",
       "      <th>1122</th>\n",
       "      <td>2019-06-06</td>\n",
       "      <td>2.218545</td>\n",
       "      <td>2.218545</td>\n",
       "      <td>2.218545</td>\n",
       "      <td>2.218545</td>\n",
       "      <td>2.077389</td>\n",
       "      <td>0.0</td>\n",
       "    </tr>\n",
       "    <tr>\n",
       "      <th>205</th>\n",
       "      <td>2015-12-01</td>\n",
       "      <td>2.133043</td>\n",
       "      <td>2.196044</td>\n",
       "      <td>2.133043</td>\n",
       "      <td>2.133043</td>\n",
       "      <td>1.772747</td>\n",
       "      <td>119640761.0</td>\n",
       "    </tr>\n",
       "    <tr>\n",
       "      <th>1110</th>\n",
       "      <td>2019-05-21</td>\n",
       "      <td>2.268046</td>\n",
       "      <td>2.281546</td>\n",
       "      <td>2.214044</td>\n",
       "      <td>2.236545</td>\n",
       "      <td>2.094244</td>\n",
       "      <td>71510267.0</td>\n",
       "    </tr>\n",
       "    <tr>\n",
       "      <th>44</th>\n",
       "      <td>2015-04-20</td>\n",
       "      <td>2.650553</td>\n",
       "      <td>2.659554</td>\n",
       "      <td>2.637053</td>\n",
       "      <td>2.655053</td>\n",
       "      <td>2.206583</td>\n",
       "      <td>25463287.0</td>\n",
       "    </tr>\n",
       "    <tr>\n",
       "      <th>1811</th>\n",
       "      <td>2022-02-28</td>\n",
       "      <td>3.766576</td>\n",
       "      <td>3.766576</td>\n",
       "      <td>3.541571</td>\n",
       "      <td>3.582072</td>\n",
       "      <td>3.456540</td>\n",
       "      <td>215086525.0</td>\n",
       "    </tr>\n",
       "    <tr>\n",
       "      <th>1980</th>\n",
       "      <td>2022-11-02</td>\n",
       "      <td>9.350000</td>\n",
       "      <td>9.350000</td>\n",
       "      <td>8.970000</td>\n",
       "      <td>8.970000</td>\n",
       "      <td>8.970000</td>\n",
       "      <td>304050512.0</td>\n",
       "    </tr>\n",
       "    <tr>\n",
       "      <th>1202</th>\n",
       "      <td>2019-09-26</td>\n",
       "      <td>2.718055</td>\n",
       "      <td>2.758556</td>\n",
       "      <td>2.704554</td>\n",
       "      <td>2.713555</td>\n",
       "      <td>2.540904</td>\n",
       "      <td>62655298.0</td>\n",
       "    </tr>\n",
       "    <tr>\n",
       "      <th>1559</th>\n",
       "      <td>2021-02-24</td>\n",
       "      <td>2.632553</td>\n",
       "      <td>2.659554</td>\n",
       "      <td>2.565052</td>\n",
       "      <td>2.565052</td>\n",
       "      <td>2.401850</td>\n",
       "      <td>187437885.0</td>\n",
       "    </tr>\n",
       "    <tr>\n",
       "      <th>524</th>\n",
       "      <td>2017-02-20</td>\n",
       "      <td>2.871058</td>\n",
       "      <td>2.880058</td>\n",
       "      <td>2.790056</td>\n",
       "      <td>2.812557</td>\n",
       "      <td>2.425683</td>\n",
       "      <td>81476112.0</td>\n",
       "    </tr>\n",
       "    <tr>\n",
       "      <th>1355</th>\n",
       "      <td>2020-05-04</td>\n",
       "      <td>2.200544</td>\n",
       "      <td>2.209544</td>\n",
       "      <td>2.182544</td>\n",
       "      <td>2.191544</td>\n",
       "      <td>2.052106</td>\n",
       "      <td>51549397.0</td>\n",
       "    </tr>\n",
       "  </tbody>\n",
       "</table>\n",
       "</div>"
      ],
      "text/plain": [
       "            Date      Open      High       Low     Close  Adj Close  \\\n",
       "1122  2019-06-06  2.218545  2.218545  2.218545  2.218545   2.077389   \n",
       "205   2015-12-01  2.133043  2.196044  2.133043  2.133043   1.772747   \n",
       "1110  2019-05-21  2.268046  2.281546  2.214044  2.236545   2.094244   \n",
       "44    2015-04-20  2.650553  2.659554  2.637053  2.655053   2.206583   \n",
       "1811  2022-02-28  3.766576  3.766576  3.541571  3.582072   3.456540   \n",
       "1980  2022-11-02  9.350000  9.350000  8.970000  8.970000   8.970000   \n",
       "1202  2019-09-26  2.718055  2.758556  2.704554  2.713555   2.540904   \n",
       "1559  2021-02-24  2.632553  2.659554  2.565052  2.565052   2.401850   \n",
       "524   2017-02-20  2.871058  2.880058  2.790056  2.812557   2.425683   \n",
       "1355  2020-05-04  2.200544  2.209544  2.182544  2.191544   2.052106   \n",
       "\n",
       "           Volume  \n",
       "1122          0.0  \n",
       "205   119640761.0  \n",
       "1110   71510267.0  \n",
       "44     25463287.0  \n",
       "1811  215086525.0  \n",
       "1980  304050512.0  \n",
       "1202   62655298.0  \n",
       "1559  187437885.0  \n",
       "524    81476112.0  \n",
       "1355   51549397.0  "
      ]
     },
     "execution_count": 17,
     "metadata": {},
     "output_type": "execute_result"
    }
   ],
   "source": [
    "test.head(10)"
   ]
  },
  {
   "cell_type": "code",
   "execution_count": 18,
   "id": "d44b8388",
   "metadata": {
    "execution": {
     "iopub.execute_input": "2023-04-26T13:14:50.045598Z",
     "iopub.status.busy": "2023-04-26T13:14:50.045186Z",
     "iopub.status.idle": "2023-04-26T13:14:50.053266Z",
     "shell.execute_reply": "2023-04-26T13:14:50.051612Z"
    },
    "papermill": {
     "duration": 0.023393,
     "end_time": "2023-04-26T13:14:50.056060",
     "exception": false,
     "start_time": "2023-04-26T13:14:50.032667",
     "status": "completed"
    },
    "tags": []
   },
   "outputs": [],
   "source": [
    "x_train = train[['Open', 'High', 'Low', 'Volume']].values\n",
    "x_test = test[['Open', 'High', 'Low', 'Volume']].values"
   ]
  },
  {
   "cell_type": "code",
   "execution_count": 19,
   "id": "e317deee",
   "metadata": {
    "execution": {
     "iopub.execute_input": "2023-04-26T13:14:50.080406Z",
     "iopub.status.busy": "2023-04-26T13:14:50.080000Z",
     "iopub.status.idle": "2023-04-26T13:14:50.086088Z",
     "shell.execute_reply": "2023-04-26T13:14:50.084763Z"
    },
    "papermill": {
     "duration": 0.021836,
     "end_time": "2023-04-26T13:14:50.089209",
     "exception": false,
     "start_time": "2023-04-26T13:14:50.067373",
     "status": "completed"
    },
    "tags": []
   },
   "outputs": [],
   "source": [
    "y_train = train['Close'].values\n",
    "y_test = test['Close'].values"
   ]
  },
  {
   "cell_type": "code",
   "execution_count": 20,
   "id": "5f9ca992",
   "metadata": {
    "execution": {
     "iopub.execute_input": "2023-04-26T13:14:50.117046Z",
     "iopub.status.busy": "2023-04-26T13:14:50.116311Z",
     "iopub.status.idle": "2023-04-26T13:14:50.143383Z",
     "shell.execute_reply": "2023-04-26T13:14:50.142018Z"
    },
    "papermill": {
     "duration": 0.045042,
     "end_time": "2023-04-26T13:14:50.146329",
     "exception": false,
     "start_time": "2023-04-26T13:14:50.101287",
     "status": "completed"
    },
    "tags": []
   },
   "outputs": [
    {
     "data": {
      "text/plain": [
       "LinearRegression()"
      ]
     },
     "execution_count": 20,
     "metadata": {},
     "output_type": "execute_result"
    }
   ],
   "source": [
    "model_lnr = LinearRegression()\n",
    "model_lnr.fit(x_train, y_train)"
   ]
  },
  {
   "cell_type": "code",
   "execution_count": 21,
   "id": "f545923d",
   "metadata": {
    "execution": {
     "iopub.execute_input": "2023-04-26T13:14:50.172280Z",
     "iopub.status.busy": "2023-04-26T13:14:50.171352Z",
     "iopub.status.idle": "2023-04-26T13:14:50.177355Z",
     "shell.execute_reply": "2023-04-26T13:14:50.175980Z"
    },
    "papermill": {
     "duration": 0.021767,
     "end_time": "2023-04-26T13:14:50.180086",
     "exception": false,
     "start_time": "2023-04-26T13:14:50.158319",
     "status": "completed"
    },
    "tags": []
   },
   "outputs": [],
   "source": [
    "y_pred = model_lnr.predict(x_test)"
   ]
  },
  {
   "cell_type": "code",
   "execution_count": 22,
   "id": "26b71c15",
   "metadata": {
    "execution": {
     "iopub.execute_input": "2023-04-26T13:14:50.204913Z",
     "iopub.status.busy": "2023-04-26T13:14:50.203841Z",
     "iopub.status.idle": "2023-04-26T13:14:50.210737Z",
     "shell.execute_reply": "2023-04-26T13:14:50.209611Z"
    },
    "papermill": {
     "duration": 0.022361,
     "end_time": "2023-04-26T13:14:50.213656",
     "exception": false,
     "start_time": "2023-04-26T13:14:50.191295",
     "status": "completed"
    },
    "tags": []
   },
   "outputs": [
    {
     "name": "stdout",
     "output_type": "stream",
     "text": [
      "[2.93645082]\n"
     ]
    }
   ],
   "source": [
    "result = model_lnr.predict([[2.970060,2.997060,2.902558,55057948.0]])\n",
    "print(result)"
   ]
  },
  {
   "cell_type": "code",
   "execution_count": 23,
   "id": "30b8c9e8",
   "metadata": {
    "execution": {
     "iopub.execute_input": "2023-04-26T13:14:50.237762Z",
     "iopub.status.busy": "2023-04-26T13:14:50.237334Z",
     "iopub.status.idle": "2023-04-26T13:14:50.248863Z",
     "shell.execute_reply": "2023-04-26T13:14:50.247254Z"
    },
    "papermill": {
     "duration": 0.026675,
     "end_time": "2023-04-26T13:14:50.251650",
     "exception": false,
     "start_time": "2023-04-26T13:14:50.224975",
     "status": "completed"
    },
    "tags": []
   },
   "outputs": [
    {
     "name": "stdout",
     "output_type": "stream",
     "text": [
      "MSE 0.002\n",
      "RMSE 0.048\n",
      "MAE 0.024\n",
      "MAPE 0.006\n",
      "R2 Score :  0.999\n"
     ]
    }
   ],
   "source": [
    "print(\"MSE\",round(mean_squared_error(y_test,y_pred), 3))\n",
    "print(\"RMSE\",round(np.sqrt(mean_squared_error(y_test,y_pred)), 3))\n",
    "print(\"MAE\",round(mean_absolute_error(y_test,y_pred), 3))\n",
    "print(\"MAPE\",round(mean_absolute_percentage_error(y_test,y_pred), 3))\n",
    "print(\"R2 Score : \", round(r2_score(y_test,y_pred), 3))"
   ]
  },
  {
   "cell_type": "code",
   "execution_count": 24,
   "id": "f85cafe5",
   "metadata": {
    "execution": {
     "iopub.execute_input": "2023-04-26T13:14:50.276678Z",
     "iopub.status.busy": "2023-04-26T13:14:50.275264Z",
     "iopub.status.idle": "2023-04-26T13:14:50.285226Z",
     "shell.execute_reply": "2023-04-26T13:14:50.283928Z"
    },
    "papermill": {
     "duration": 0.025424,
     "end_time": "2023-04-26T13:14:50.288053",
     "exception": false,
     "start_time": "2023-04-26T13:14:50.262629",
     "status": "completed"
    },
    "tags": []
   },
   "outputs": [],
   "source": [
    "viz['Date']=pd.to_datetime(viz['Date'],format='%Y-%m-%d')"
   ]
  },
  {
   "cell_type": "code",
   "execution_count": 25,
   "id": "791413e4",
   "metadata": {
    "execution": {
     "iopub.execute_input": "2023-04-26T13:14:50.312248Z",
     "iopub.status.busy": "2023-04-26T13:14:50.311545Z",
     "iopub.status.idle": "2023-04-26T13:14:50.318538Z",
     "shell.execute_reply": "2023-04-26T13:14:50.317124Z"
    },
    "papermill": {
     "duration": 0.022047,
     "end_time": "2023-04-26T13:14:50.321162",
     "exception": false,
     "start_time": "2023-04-26T13:14:50.299115",
     "status": "completed"
    },
    "tags": []
   },
   "outputs": [],
   "source": [
    "def style():\n",
    "    plt.figure(facecolor='black', figsize=(15,10))\n",
    "    ax = plt.axes()\n",
    "    ax.tick_params(axis='x', colors='white')    \n",
    "    ax.tick_params(axis='y', colors='white')    \n",
    "    ax.spines['left'].set_color('white')       \n",
    "    ax.spines['bottom'].set_color('white')      \n",
    "    ax.set_facecolor(\"black\")                  "
   ]
  },
  {
   "cell_type": "code",
   "execution_count": 26,
   "id": "6398154b",
   "metadata": {
    "execution": {
     "iopub.execute_input": "2023-04-26T13:14:50.345429Z",
     "iopub.status.busy": "2023-04-26T13:14:50.344965Z",
     "iopub.status.idle": "2023-04-26T13:14:50.732189Z",
     "shell.execute_reply": "2023-04-26T13:14:50.730605Z"
    },
    "papermill": {
     "duration": 0.402845,
     "end_time": "2023-04-26T13:14:50.735053",
     "exception": false,
     "start_time": "2023-04-26T13:14:50.332208",
     "status": "completed"
    },
    "tags": []
   },
   "outputs": [
    {
     "data": {
      "text/plain": [
       "<matplotlib.legend.Legend at 0x76e117a63f10>"
      ]
     },
     "execution_count": 26,
     "metadata": {},
     "output_type": "execute_result"
    },
    {
     "data": {
      "image/png": "[encoded data removed]",
      "text/plain": [
       "<Figure size 1500x1000 with 1 Axes>"
      ]
     },
     "metadata": {},
     "output_type": "display_data"
    }
   ],
   "source": [
    "style()\n",
    "\n",
    "plt.title('Linear Regression', color=\"white\")\n",
    "plt.scatter(y_pred, y_test, color=\"#94F008\")\n",
    "plt.scatter(y_test, y_test, color=\"red\")\n",
    "plt.plot(y_test, y_test, color=\"yellow\")\n",
    "plt.legend([\"Predicted_Close\", \"Actual_Close\", \"Regression Line\"], loc =\"lower right\", facecolor='black', labelcolor='white')"
   ]
  }
 ],
 "metadata": {
  "kernelspec": {
   "display_name": "Python 3",
   "language": "python",
   "name": "python3"
  },
  "language_info": {
   "codemirror_mode": {
    "name": "ipython",
    "version": 3
   },
   "file_extension": ".py",
   "mimetype": "text/x-python",
   "name": "python",
   "nbconvert_exporter": "python",
   "pygments_lexer": "ipython3",
   "version": "3.7.12"
  },
  "papermill": {
   "default_parameters": {},
   "duration": 39.43942,
   "end_time": "2023-04-26T13:14:51.976589",
   "environment_variables": {},
   "exception": null,
   "input_path": "__notebook__.ipynb",
   "output_path": "__notebook__.ipynb",
   "parameters": {},
   "start_time": "2023-04-26T13:14:12.537169",
   "version": "2.4.0"
  }
 },
 "nbformat": 4,
 "nbformat_minor": 5
}
