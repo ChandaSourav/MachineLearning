{
  "nbformat": 4,
  "nbformat_minor": 0,
  "metadata": {
    "colab": {
      "provenance": [],
      "authorship_tag": "ABX9TyP6Xa/4gFcBI2BFh+aowSQW",
      "include_colab_link": true
    },
    "kernelspec": {
      "name": "python3",
      "display_name": "Python 3"
    },
    "language_info": {
      "name": "python"
    },
    "widgets": {
      "application/vnd.jupyter.widget-state+json": {
        "ca3a9551554d463d85f2eba9b5eeb0f1": {
          "model_module": "@jupyter-widgets/controls",
          "model_name": "VBoxModel",
          "model_module_version": "1.5.0",
          "state": {
            "_dom_classes": [
              "widget-interact"
            ],
            "_model_module": "@jupyter-widgets/controls",
            "_model_module_version": "1.5.0",
            "_model_name": "VBoxModel",
            "_view_count": null,
            "_view_module": "@jupyter-widgets/controls",
            "_view_module_version": "1.5.0",
            "_view_name": "VBoxView",
            "box_style": "",
            "children": [
              "IPY_MODEL_7ffb89476c164b6cae0c0e31febb96f1",
              "IPY_MODEL_9f8503fd604c422381bf76c30e9afe75"
            ],
            "layout": "IPY_MODEL_59b545cbbd5c4e8884b50bd6f2022da4"
          }
        },
        "7ffb89476c164b6cae0c0e31febb96f1": {
          "model_module": "@jupyter-widgets/controls",
          "model_name": "DropdownModel",
          "model_module_version": "1.5.0",
          "state": {
            "_dom_classes": [],
            "_model_module": "@jupyter-widgets/controls",
            "_model_module_version": "1.5.0",
            "_model_name": "DropdownModel",
            "_options_labels": [
              "rice",
              "maize",
              "jute",
              "cotton",
              "coconut",
              "papaya",
              "orange",
              "apple",
              "muskmelon",
              "watermelon",
              "grapes",
              "mango",
              "banana",
              "pomegranate",
              "lentil",
              "blackgram",
              "mungbean",
              "mothbeans",
              "pigeonpeas",
              "kidneybeans",
              "chickpea",
              "coffee"
            ],
            "_view_count": null,
            "_view_module": "@jupyter-widgets/controls",
            "_view_module_version": "1.5.0",
            "_view_name": "DropdownView",
            "description": "crops",
            "description_tooltip": null,
            "disabled": false,
            "index": 0,
            "layout": "IPY_MODEL_acbce25736024cd8b3e110350a7c41bd",
            "style": "IPY_MODEL_28bbc8ed7f1d4fbfb62d4e3bb95eff3d"
          }
        },
        "9f8503fd604c422381bf76c30e9afe75": {
          "model_module": "@jupyter-widgets/output",
          "model_name": "OutputModel",
          "model_module_version": "1.0.0",
          "state": {
            "_dom_classes": [],
            "_model_module": "@jupyter-widgets/output",
            "_model_module_version": "1.0.0",
            "_model_name": "OutputModel",
            "_view_count": null,
            "_view_module": "@jupyter-widgets/output",
            "_view_module_version": "1.0.0",
            "_view_name": "OutputView",
            "layout": "IPY_MODEL_a3dc1f9bacb540c898084f7c97dbf715",
            "msg_id": "",
            "outputs": [
              {
                "output_type": "stream",
                "name": "stdout",
                "text": [
                  "Min Nitrogen required 60\n",
                  "Avg Nitrogen required 79.89\n",
                  "Max Nitrogen required 99\n",
                  "-----------------------------\n",
                  "Min Phosphorus required 35\n",
                  "Avg Phosphorus required 47.58\n",
                  "Max Phosphorus required 60\n",
                  "-----------------------------\n",
                  "Min Potassium required 35\n",
                  "Avg Potassium required 39.87\n",
                  "Max Potassium required 45\n",
                  "-----------------------------\n",
                  "Min PH required 5.005306977\n",
                  "Avg PH required 6.425470922139999\n",
                  "Max PH required 7.868474653\n",
                  "-----------------------------\n",
                  "Min Temperature required 20.0454142\n",
                  "Avg Temperature required 23.6893322105\n",
                  "Max Temperature required 26.92995077\n",
                  "-----------------------------\n",
                  "Min Humidity required 80.12267476\n",
                  "Avg Humidity required 82.27282153889999\n",
                  "Max Humidity required 84.96907151\n",
                  "-----------------------------\n",
                  "Min Rainfall required 182.5616319\n",
                  "Avg Rainfall required 236.18111359399998\n",
                  "Max Rainfall required 298.5601175\n"
                ]
              }
            ]
          }
        },
        "59b545cbbd5c4e8884b50bd6f2022da4": {
          "model_module": "@jupyter-widgets/base",
          "model_name": "LayoutModel",
          "model_module_version": "1.2.0",
          "state": {
            "_model_module": "@jupyter-widgets/base",
            "_model_module_version": "1.2.0",
            "_model_name": "LayoutModel",
            "_view_count": null,
            "_view_module": "@jupyter-widgets/base",
            "_view_module_version": "1.2.0",
            "_view_name": "LayoutView",
            "align_content": null,
            "align_items": null,
            "align_self": null,
            "border": null,
            "bottom": null,
            "display": null,
            "flex": null,
            "flex_flow": null,
            "grid_area": null,
            "grid_auto_columns": null,
            "grid_auto_flow": null,
            "grid_auto_rows": null,
            "grid_column": null,
            "grid_gap": null,
            "grid_row": null,
            "grid_template_areas": null,
            "grid_template_columns": null,
            "grid_template_rows": null,
            "height": null,
            "justify_content": null,
            "justify_items": null,
            "left": null,
            "margin": null,
            "max_height": null,
            "max_width": null,
            "min_height": null,
            "min_width": null,
            "object_fit": null,
            "object_position": null,
            "order": null,
            "overflow": null,
            "overflow_x": null,
            "overflow_y": null,
            "padding": null,
            "right": null,
            "top": null,
            "visibility": null,
            "width": null
          }
        },
        "acbce25736024cd8b3e110350a7c41bd": {
          "model_module": "@jupyter-widgets/base",
          "model_name": "LayoutModel",
          "model_module_version": "1.2.0",
          "state": {
            "_model_module": "@jupyter-widgets/base",
            "_model_module_version": "1.2.0",
            "_model_name": "LayoutModel",
            "_view_count": null,
            "_view_module": "@jupyter-widgets/base",
            "_view_module_version": "1.2.0",
            "_view_name": "LayoutView",
            "align_content": null,
            "align_items": null,
            "align_self": null,
            "border": null,
            "bottom": null,
            "display": null,
            "flex": null,
            "flex_flow": null,
            "grid_area": null,
            "grid_auto_columns": null,
            "grid_auto_flow": null,
            "grid_auto_rows": null,
            "grid_column": null,
            "grid_gap": null,
            "grid_row": null,
            "grid_template_areas": null,
            "grid_template_columns": null,
            "grid_template_rows": null,
            "height": null,
            "justify_content": null,
            "justify_items": null,
            "left": null,
            "margin": null,
            "max_height": null,
            "max_width": null,
            "min_height": null,
            "min_width": null,
            "object_fit": null,
            "object_position": null,
            "order": null,
            "overflow": null,
            "overflow_x": null,
            "overflow_y": null,
            "padding": null,
            "right": null,
            "top": null,
            "visibility": null,
            "width": null
          }
        },
        "28bbc8ed7f1d4fbfb62d4e3bb95eff3d": {
          "model_module": "@jupyter-widgets/controls",
          "model_name": "DescriptionStyleModel",
          "model_module_version": "1.5.0",
          "state": {
            "_model_module": "@jupyter-widgets/controls",
            "_model_module_version": "1.5.0",
            "_model_name": "DescriptionStyleModel",
            "_view_count": null,
            "_view_module": "@jupyter-widgets/base",
            "_view_module_version": "1.2.0",
            "_view_name": "StyleView",
            "description_width": ""
          }
        },
        "a3dc1f9bacb540c898084f7c97dbf715": {
          "model_module": "@jupyter-widgets/base",
          "model_name": "LayoutModel",
          "model_module_version": "1.2.0",
          "state": {
            "_model_module": "@jupyter-widgets/base",
            "_model_module_version": "1.2.0",
            "_model_name": "LayoutModel",
            "_view_count": null,
            "_view_module": "@jupyter-widgets/base",
            "_view_module_version": "1.2.0",
            "_view_name": "LayoutView",
            "align_content": null,
            "align_items": null,
            "align_self": null,
            "border": null,
            "bottom": null,
            "display": null,
            "flex": null,
            "flex_flow": null,
            "grid_area": null,
            "grid_auto_columns": null,
            "grid_auto_flow": null,
            "grid_auto_rows": null,
            "grid_column": null,
            "grid_gap": null,
            "grid_row": null,
            "grid_template_areas": null,
            "grid_template_columns": null,
            "grid_template_rows": null,
            "height": null,
            "justify_content": null,
            "justify_items": null,
            "left": null,
            "margin": null,
            "max_height": null,
            "max_width": null,
            "min_height": null,
            "min_width": null,
            "object_fit": null,
            "object_position": null,
            "order": null,
            "overflow": null,
            "overflow_x": null,
            "overflow_y": null,
            "padding": null,
            "right": null,
            "top": null,
            "visibility": null,
            "width": null
          }
        }
      }
    }
  },
  "cells": [
    {
      "cell_type": "markdown",
      "metadata": {
        "id": "view-in-github",
        "colab_type": "text"
      },
      "source": [
        "<a href=\"https://colab.research.google.com/github/ChandaSourav/MachineLearning/blob/main/Crop_Prediction_Sourav.ipynb\" target=\"_parent\"><img src=\"https://colab.research.google.com/assets/colab-badge.svg\" alt=\"Open In Colab\"/></a>"
      ]
    },
    {
      "cell_type": "markdown",
      "source": [
        "**Import Library**"
      ],
      "metadata": {
        "id": "x6byeMQGS_t4"
      }
    },
    {
      "cell_type": "code",
      "execution_count": null,
      "metadata": {
        "id": "28b98LMQQJGP"
      },
      "outputs": [],
      "source": [
        "#for data manipulations\n",
        "import numpy as np\n",
        "import pandas as pd\n",
        "#for data visualizations\n",
        "import seaborn as sns\n",
        "import matplotlib.pyplot as plt\n",
        "#for interactive analysis\n",
        "from ipywidgets import interact\n",
        "import warnings\n",
        "warnings.filterwarnings(\"ignore\")"
      ]
    },
    {
      "cell_type": "markdown",
      "source": [
        "**Load Dataset**"
      ],
      "metadata": {
        "id": "YoYJsQJkW_6Y"
      }
    },
    {
      "cell_type": "code",
      "source": [
        "data=pd.read_csv(\"/content/data.csv\")\n",
        "print(data)"
      ],
      "metadata": {
        "colab": {
          "base_uri": "https://localhost:8080/"
        },
        "id": "QAa0fzGGS6N9",
        "outputId": "af236bda-e39d-4d77-8a7a-8d25141fe8b1"
      },
      "execution_count": null,
      "outputs": [
        {
          "output_type": "stream",
          "name": "stdout",
          "text": [
            "        N   P   K  temperature   humidity        ph    rainfall   label\n",
            "0      90  42  43    20.879744  82.002744  6.502985  202.935536    rice\n",
            "1      85  58  41    21.770462  80.319644  7.038096  226.655537    rice\n",
            "2      60  55  44    23.004459  82.320763  7.840207  263.964248    rice\n",
            "3      74  35  40    26.491096  80.158363  6.980401  242.864034    rice\n",
            "4      78  42  42    20.130175  81.604873  7.628473  262.717340    rice\n",
            "...   ...  ..  ..          ...        ...       ...         ...     ...\n",
            "2195  107  34  32    26.774637  66.413269  6.780064  177.774507  coffee\n",
            "2196   99  15  27    27.417112  56.636362  6.086922  127.924610  coffee\n",
            "2197  118  33  30    24.131797  67.225123  6.362608  173.322839  coffee\n",
            "2198  117  32  34    26.272418  52.127394  6.758793  127.175293  coffee\n",
            "2199  104  18  30    23.603016  60.396475  6.779833  140.937041  coffee\n",
            "\n",
            "[2200 rows x 8 columns]\n"
          ]
        }
      ]
    },
    {
      "cell_type": "markdown",
      "source": [
        "**Missing data checking**"
      ],
      "metadata": {
        "id": "6kgHS6yLXJRk"
      }
    },
    {
      "cell_type": "code",
      "source": [
        "sns.heatmap(data.isnull())"
      ],
      "metadata": {
        "colab": {
          "base_uri": "https://localhost:8080/",
          "height": 340
        },
        "id": "_L23hXndVy2U",
        "outputId": "d6324e9f-889f-4b80-9882-721872516dd8"
      },
      "execution_count": null,
      "outputs": [
        {
          "output_type": "execute_result",
          "data": {
            "text/plain": [
              "<Axes: >"
            ]
          },
          "metadata": {},
          "execution_count": 44
        },
        {
          "output_type": "display_data",
          "data": {
            "text/plain": [
              "<Figure size 432x288 with 2 Axes>"
            ],
            "image/png": "[encoded data removed]"
          },
          "metadata": {
            "needs_background": "light"
          }
        }
      ]
    },
    {
      "cell_type": "markdown",
      "source": [
        "**Seasonal crops**"
      ],
      "metadata": {
        "id": "fhL7jjtxXdL5"
      }
    },
    {
      "cell_type": "markdown",
      "source": [
        "Summer's crops"
      ],
      "metadata": {
        "id": "KbVSfjNHXtYA"
      }
    },
    {
      "cell_type": "code",
      "source": [
        "print(data[(data['temperature']>30) & (data['humidity']>50)]['label'].unique())"
      ],
      "metadata": {
        "colab": {
          "base_uri": "https://localhost:8080/"
        },
        "id": "HKNbWu4rXiBr",
        "outputId": "b24c29e7-4fc9-4b81-9044-d65ad7a6bd55"
      },
      "execution_count": null,
      "outputs": [
        {
          "output_type": "stream",
          "name": "stdout",
          "text": [
            "['pigeonpeas' 'mothbeans' 'blackgram' 'mango' 'grapes' 'orange' 'papaya']\n"
          ]
        }
      ]
    },
    {
      "cell_type": "markdown",
      "source": [
        "**Monsoon's Crops**"
      ],
      "metadata": {
        "id": "UsJW3galYqjh"
      }
    },
    {
      "cell_type": "code",
      "source": [
        "print(data[(data['rainfall']>200) & (data['humidity']>50)]['label'].unique())"
      ],
      "metadata": {
        "colab": {
          "base_uri": "https://localhost:8080/"
        },
        "id": "NiFnwJd8YpPl",
        "outputId": "2bccf638-6469-442a-bc58-256f27e57f43"
      },
      "execution_count": null,
      "outputs": [
        {
          "output_type": "stream",
          "name": "stdout",
          "text": [
            "['rice' 'papaya' 'coconut']\n"
          ]
        }
      ]
    },
    {
      "cell_type": "markdown",
      "source": [
        "**Winter Crops**"
      ],
      "metadata": {
        "id": "i1kcTfyrZFp8"
      }
    },
    {
      "cell_type": "code",
      "source": [
        "print(data[(data['temperature']<20) & (data['humidity']<50)]['label'].unique())"
      ],
      "metadata": {
        "colab": {
          "base_uri": "https://localhost:8080/"
        },
        "id": "HXXwNuUEZMIR",
        "outputId": "ad924fb5-19cf-47a2-cfa3-e8e1b73ba052"
      },
      "execution_count": null,
      "outputs": [
        {
          "output_type": "stream",
          "name": "stdout",
          "text": [
            "['chickpea' 'kidneybeans' 'pigeonpeas']\n"
          ]
        }
      ]
    },
    {
      "cell_type": "markdown",
      "source": [
        "**Crops Wise Requirements**"
      ],
      "metadata": {
        "id": "Vd80Eihgb7oA"
      }
    },
    {
      "cell_type": "code",
      "source": [
        "@interact\n",
        "def summary(crops=list(data['label'].value_counts().index)):\n",
        "  x=data[data['label']==crops]\n",
        "  print(\"Min Nitrogen required\",x['N'].min())\n",
        "  print(\"Avg Nitrogen required\",x['N'].mean())\n",
        "  print(\"Max Nitrogen required\",x['N'].max())\n",
        "  print(\"-----------------------------\")\n",
        "  print(\"Min Phosphorus required\",x['P'].min())\n",
        "  print(\"Avg Phosphorus required\",x['P'].mean())\n",
        "  print(\"Max Phosphorus required\",x['P'].max())\n",
        "  print(\"-----------------------------\")\n",
        "  print(\"Min Potassium required\",x['K'].min())\n",
        "  print(\"Avg Potassium required\",x['K'].mean())\n",
        "  print(\"Max Potassium required\",x['K'].max())\n",
        "  print(\"-----------------------------\")\n",
        "  print(\"Min PH required\",x['ph'].min())\n",
        "  print(\"Avg PH required\",x['ph'].mean())\n",
        "  print(\"Max PH required\",x['ph'].max())\n",
        "  print(\"-----------------------------\")\n",
        "  print(\"Min Temperature required\",x['temperature'].min())\n",
        "  print(\"Avg Temperature required\",x['temperature'].mean())\n",
        "  print(\"Max Temperature required\",x['temperature'].max())\n",
        "  print(\"-----------------------------\")\n",
        "  print(\"Min Humidity required\",x['humidity'].min())\n",
        "  print(\"Avg Humidity required\",x['humidity'].mean())\n",
        "  print(\"Max Humidity required\",x['humidity'].max())\n",
        "  print(\"-----------------------------\")\n",
        "  print(\"Min Rainfall required\",x['rainfall'].min())\n",
        "  print(\"Avg Rainfall required\",x['rainfall'].mean())\n",
        "  print(\"Max Rainfall required\",x['rainfall'].max())"
      ],
      "metadata": {
        "colab": {
          "base_uri": "https://localhost:8080/",
          "height": 518,
          "referenced_widgets": [
            "ca3a9551554d463d85f2eba9b5eeb0f1",
            "7ffb89476c164b6cae0c0e31febb96f1",
            "9f8503fd604c422381bf76c30e9afe75",
            "59b545cbbd5c4e8884b50bd6f2022da4",
            "acbce25736024cd8b3e110350a7c41bd",
            "28bbc8ed7f1d4fbfb62d4e3bb95eff3d",
            "a3dc1f9bacb540c898084f7c97dbf715"
          ]
        },
        "id": "OPrbjwRhcFKJ",
        "outputId": "0689a337-2591-496c-946e-7325e55970bc"
      },
      "execution_count": null,
      "outputs": [
        {
          "output_type": "display_data",
          "data": {
            "text/plain": [
              "interactive(children=(Dropdown(description='crops', options=('rice', 'maize', 'jute', 'cotton', 'coconut', 'pa…"
            ],
            "application/vnd.jupyter.widget-view+json": {
              "version_major": 2,
              "version_minor": 0,
              "model_id": "ca3a9551554d463d85f2eba9b5eeb0f1"
            }
          },
          "metadata": {}
        }
      ]
    },
    {
      "cell_type": "markdown",
      "source": [
        "**Graph for Multivareance**"
      ],
      "metadata": {
        "id": "pAZyKzg0nYGu"
      }
    },
    {
      "cell_type": "code",
      "source": [
        "plt.subplot(3,4,1)\n",
        "sns.histplot(data['N'],color=\"green\")\n",
        "plt.xlabel(\"Nitrogen\")\n",
        "plt.grid()\n",
        "\n",
        "plt.subplot(3,4,2)\n",
        "sns.histplot(data['P'],color=\"yellow\")\n",
        "plt.xlabel(\"Phosphorus\")\n",
        "plt.grid()\n",
        "\n",
        "plt.subplot(3,4,3)\n",
        "sns.histplot(data['K'],color=\"blue\")\n",
        "plt.xlabel(\"Potassium\")\n",
        "plt.grid()\n",
        "\n",
        "plt.subplot(3,4,4)\n",
        "sns.histplot(data['ph'],color=\"green\")\n",
        "plt.xlabel(\"PH\")\n",
        "plt.grid()\n",
        "\n",
        "plt.subplot(3,4,5)\n",
        "sns.histplot(data['temperature'],color=\"yellow\")\n",
        "plt.xlabel(\"Temperature\")\n",
        "plt.grid()\n",
        "\n",
        "plt.subplot(3,4,6)\n",
        "sns.histplot(data['humidity'],color=\"blue\")\n",
        "plt.xlabel(\"Humidity\")\n",
        "plt.grid()\n",
        "\n",
        "plt.subplot(3,4,6)\n",
        "sns.histplot(data['rainfall'],color=\"green\")\n",
        "plt.xlabel(\"Rainfall\")\n",
        "plt.grid()"
      ],
      "metadata": {
        "colab": {
          "base_uri": "https://localhost:8080/",
          "height": 203
        },
        "id": "niAJUrTCngc9",
        "outputId": "b560fdb4-2403-4eda-d750-848e5f372b9d"
      },
      "execution_count": null,
      "outputs": [
        {
          "output_type": "display_data",
          "data": {
            "text/plain": [
              "<Figure size 432x288 with 6 Axes>"
            ],
            "image/png": "[encoded data removed]"
          },
          "metadata": {
            "needs_background": "light"
          }
        }
      ]
    },
    {
      "cell_type": "markdown",
      "source": [
        "**Elbow Method To Determine Cluster Size**"
      ],
      "metadata": {
        "id": "lLckckEI84pM"
      }
    },
    {
      "cell_type": "code",
      "source": [
        "from pandas.core.common import random_state\n",
        "from sklearn.cluster import KMeans\n",
        "\n",
        "x= data.drop(['label'],axis=1)\n",
        "x=x.values\n",
        "wcss=[]\n",
        "for i in range(1,11):\n",
        "  km=KMeans(n_clusters=i,init=\"k-means++\",max_iter=2000,n_init=10,random_state=0)\n",
        "  km.fit(x)\n",
        "  wcss.append(km.inertia_)\n",
        "\n",
        "plt.plot(range(1,11),wcss)\n",
        "plt.show()"
      ],
      "metadata": {
        "colab": {
          "base_uri": "https://localhost:8080/",
          "height": 276
        },
        "id": "U2XPJYmh9Ckx",
        "outputId": "91113a45-1a23-4b61-c3e6-b29e8028afd6"
      },
      "execution_count": null,
      "outputs": [
        {
          "output_type": "display_data",
          "data": {
            "text/plain": [
              "<Figure size 432x288 with 1 Axes>"
            ],
            "image/png": "[encoded data removed]"
          },
          "metadata": {
            "needs_background": "light"
          }
        }
      ]
    },
    {
      "cell_type": "markdown",
      "source": [
        "**Clustering**"
      ],
      "metadata": {
        "id": "adx-C0kdD6Zo"
      }
    },
    {
      "cell_type": "code",
      "source": [
        "km=KMeans(n_clusters=4,init=\"k-means++\",max_iter=2000,n_init=10,random_state=0)\n",
        "y_means=km.fit_predict(x)\n",
        "\n",
        "a=data['label']\n",
        "y_means=pd.DataFrame(y_means)\n",
        "z=pd.concat([y_means,a],axis=1)\n",
        "\n",
        "z=z.rename(columns={0:'cluster'})\n",
        "\n",
        "print(\"Cluster 1\",z[z['cluster']==0]['label'].unique())\n",
        "print(\"Cluster 2\",z[z['cluster']==1]['label'].unique())\n",
        "print(\"Cluster 3\",z[z['cluster']==2]['label'].unique())\n",
        "print(\"Cluster 4\",z[z['cluster']==3]['label'].unique())"
      ],
      "metadata": {
        "colab": {
          "base_uri": "https://localhost:8080/"
        },
        "id": "fqWkrTRh_Rms",
        "outputId": "2aa6bee3-bbec-4a0c-c9ce-3d40abd855ed"
      },
      "execution_count": null,
      "outputs": [
        {
          "output_type": "stream",
          "name": "stdout",
          "text": [
            "Cluster 1 ['maize' 'chickpea' 'kidneybeans' 'pigeonpeas' 'mothbeans' 'mungbean'\n",
            " 'blackgram' 'lentil' 'pomegranate' 'mango' 'orange' 'papaya' 'coconut']\n",
            "Cluster 2 ['maize' 'banana' 'watermelon' 'muskmelon' 'papaya' 'cotton' 'coffee']\n",
            "Cluster 3 ['grapes' 'apple']\n",
            "Cluster 4 ['rice' 'pigeonpeas' 'papaya' 'coconut' 'jute' 'coffee']\n"
          ]
        }
      ]
    },
    {
      "cell_type": "markdown",
      "source": [
        "**Crop Prediction**"
      ],
      "metadata": {
        "id": "8PHY4G-aD_Ue"
      }
    },
    {
      "cell_type": "code",
      "source": [
        "y=data['label']\n",
        "from sklearn.model_selection import train_test_split\n",
        "x_train,x_test,y_train,y_test=train_test_split(x,y,test_size=.2,random_state=0)"
      ],
      "metadata": {
        "id": "U39__DqiEWAk"
      },
      "execution_count": null,
      "outputs": []
    },
    {
      "cell_type": "markdown",
      "source": [
        "**Logistic Regression**"
      ],
      "metadata": {
        "id": "U5ce-bIGGVLw"
      }
    },
    {
      "cell_type": "code",
      "source": [
        "from sklearn.linear_model import LogisticRegression\n",
        "\n",
        "model=LogisticRegression()\n",
        "model.fit(x_train,y_train)\n",
        "y_pred=model.predict(np.array([[20,30,40,20,80,7,100]]))\n",
        "print(y_pred)"
      ],
      "metadata": {
        "colab": {
          "base_uri": "https://localhost:8080/"
        },
        "id": "Mq1Y_2XLFHTI",
        "outputId": "47713299-c766-4cd5-e5b8-0f4f0e08b786"
      },
      "execution_count": null,
      "outputs": [
        {
          "output_type": "stream",
          "name": "stdout",
          "text": [
            "['pomegranate']\n"
          ]
        }
      ]
    },
    {
      "cell_type": "markdown",
      "source": [
        "**Accuracy And Confusion Matrix**"
      ],
      "metadata": {
        "id": "zOXu3zvgHoFk"
      }
    },
    {
      "cell_type": "code",
      "source": [
        "y_pred=model.predict(x_test)\n",
        "from sklearn.metrics import classification_report\n",
        "cr=classification_report(y_test,y_pred)\n",
        "print(cr)\n",
        "\n",
        "from sklearn.metrics import confusion_matrix\n",
        "cm=confusion_matrix(y_test,y_pred)\n",
        "sns.heatmap(cm,annot=True)"
      ],
      "metadata": {
        "colab": {
          "base_uri": "https://localhost:8080/",
          "height": 789
        },
        "id": "VjYc5niCH3F6",
        "outputId": "3d8b0d16-850c-4d55-fb53-c4774c8eac66"
      },
      "execution_count": null,
      "outputs": [
        {
          "output_type": "stream",
          "name": "stdout",
          "text": [
            "              precision    recall  f1-score   support\n",
            "\n",
            "       apple       1.00      1.00      1.00        18\n",
            "      banana       1.00      1.00      1.00        18\n",
            "   blackgram       0.86      0.82      0.84        22\n",
            "    chickpea       1.00      1.00      1.00        23\n",
            "     coconut       1.00      1.00      1.00        15\n",
            "      coffee       1.00      1.00      1.00        17\n",
            "      cotton       0.89      1.00      0.94        16\n",
            "      grapes       1.00      1.00      1.00        18\n",
            "        jute       0.84      1.00      0.91        21\n",
            " kidneybeans       1.00      1.00      1.00        20\n",
            "      lentil       0.94      0.94      0.94        17\n",
            "       maize       0.94      0.89      0.91        18\n",
            "       mango       1.00      1.00      1.00        21\n",
            "   mothbeans       0.88      0.92      0.90        25\n",
            "    mungbean       1.00      1.00      1.00        17\n",
            "   muskmelon       1.00      1.00      1.00        23\n",
            "      orange       1.00      1.00      1.00        23\n",
            "      papaya       1.00      0.95      0.98        21\n",
            "  pigeonpeas       1.00      1.00      1.00        22\n",
            " pomegranate       1.00      1.00      1.00        23\n",
            "        rice       1.00      0.84      0.91        25\n",
            "  watermelon       1.00      1.00      1.00        17\n",
            "\n",
            "    accuracy                           0.97       440\n",
            "   macro avg       0.97      0.97      0.97       440\n",
            "weighted avg       0.97      0.97      0.97       440\n",
            "\n"
          ]
        },
        {
          "output_type": "execute_result",
          "data": {
            "text/plain": [
              "<Axes: >"
            ]
          },
          "metadata": {},
          "execution_count": 55
        },
        {
          "output_type": "display_data",
          "data": {
            "text/plain": [
              "<Figure size 432x288 with 2 Axes>"
            ],
            "image/png": "[encoded data removed]"
          },
          "metadata": {
            "needs_background": "light"
          }
        }
      ]
    }
  ]
}